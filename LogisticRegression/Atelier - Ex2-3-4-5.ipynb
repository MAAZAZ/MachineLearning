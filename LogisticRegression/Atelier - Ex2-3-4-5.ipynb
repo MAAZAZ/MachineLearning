{
 "cells": [
  {
   "cell_type": "code",
   "execution_count": 664,
   "metadata": {},
   "outputs": [],
   "source": [
    "from sklearn.linear_model import LogisticRegression\n",
    "from sklearn import metrics\n",
    "import numpy as np\n",
    "import pandas as pd\n",
    "from matplotlib import pyplot as pt\n",
    "from sklearn.model_selection import train_test_split\n",
    "from sklearn.metrics import confusion_matrix\n",
    "from sklearn.metrics import accuracy_score,precision_recall_fscore_support"
   ]
  },
  {
   "cell_type": "markdown",
   "metadata": {},
   "source": [
    "# Exercice 2"
   ]
  },
  {
   "cell_type": "code",
   "execution_count": 665,
   "metadata": {},
   "outputs": [
    {
     "data": {
      "text/plain": [
       "0      148\n",
       "1       85\n",
       "2      183\n",
       "3       89\n",
       "4      137\n",
       "      ... \n",
       "763    101\n",
       "764    122\n",
       "765    121\n",
       "766    126\n",
       "767     93\n",
       "Name: Glucose, Length: 768, dtype: int64"
      ]
     },
     "execution_count": 665,
     "metadata": {},
     "output_type": "execute_result"
    }
   ],
   "source": [
    "df=pd.read_csv(\"diabetes.csv\")\n",
    "X=df['Glucose']\n",
    "y=df['Outcome']\n",
    "X"
   ]
  },
  {
   "cell_type": "code",
   "execution_count": 666,
   "metadata": {},
   "outputs": [
    {
     "data": {
      "text/plain": [
       "0      1\n",
       "1      0\n",
       "2      1\n",
       "3      0\n",
       "4      1\n",
       "      ..\n",
       "763    0\n",
       "764    0\n",
       "765    0\n",
       "766    1\n",
       "767    0\n",
       "Name: Outcome, Length: 768, dtype: int64"
      ]
     },
     "execution_count": 666,
     "metadata": {},
     "output_type": "execute_result"
    }
   ],
   "source": [
    "y"
   ]
  },
  {
   "cell_type": "code",
   "execution_count": 667,
   "metadata": {},
   "outputs": [
    {
     "data": {
      "text/plain": [
       "[<matplotlib.lines.Line2D at 0x1a778f55280>]"
      ]
     },
     "execution_count": 667,
     "metadata": {},
     "output_type": "execute_result"
    },
    {
     "data": {
      "image/png": "[encoded data removed]",
      "text/plain": [
       "<Figure size 432x288 with 1 Axes>"
      ]
     },
     "metadata": {
      "needs_background": "light"
     },
     "output_type": "display_data"
    }
   ],
   "source": [
    "pt.plot(X,y,\"rx\")"
   ]
  },
  {
   "cell_type": "code",
   "execution_count": 668,
   "metadata": {},
   "outputs": [],
   "source": [
    "#2-c- conslusion : on conclut qu'il y'a des bruits"
   ]
  },
  {
   "cell_type": "code",
   "execution_count": 669,
   "metadata": {},
   "outputs": [],
   "source": [
    "X_train, X_test, y_train, y_test = train_test_split(X, y, test_size=0.2, random_state=42)"
   ]
  },
  {
   "cell_type": "code",
   "execution_count": 670,
   "metadata": {},
   "outputs": [],
   "source": [
    "#2-e-\n",
    "#lorsqu'on sépare les données en données d'apprentissage et en données de tests, \n",
    "#la plupart des données sont utilisées pour l'apprentissage et une plus petite partie des données est utilisée pour \n",
    "#les tests."
   ]
  },
  {
   "cell_type": "code",
   "execution_count": 671,
   "metadata": {},
   "outputs": [
    {
     "data": {
      "text/plain": [
       "(614, 154)"
      ]
     },
     "execution_count": 671,
     "metadata": {},
     "output_type": "execute_result"
    }
   ],
   "source": [
    "#2-f-\n",
    "len(X_train), len(X_test)"
   ]
  },
  {
   "cell_type": "markdown",
   "metadata": {},
   "source": [
    "# Model"
   ]
  },
  {
   "cell_type": "code",
   "execution_count": 672,
   "metadata": {
    "scrolled": true
   },
   "outputs": [
    {
     "data": {
      "text/plain": [
       "LogisticRegression(random_state=0, solver='liblinear')"
      ]
     },
     "execution_count": 672,
     "metadata": {},
     "output_type": "execute_result"
    }
   ],
   "source": [
    "#3-\n",
    "h=LogisticRegression(solver='liblinear',random_state=0)\n",
    "X=np.array(X).reshape(-1,1)\n",
    "h.fit(X,y)"
   ]
  },
  {
   "cell_type": "code",
   "execution_count": 673,
   "metadata": {},
   "outputs": [
    {
     "data": {
      "text/plain": [
       "(array([-4.59756449]), array([[0.03218157]]))"
      ]
     },
     "execution_count": 673,
     "metadata": {},
     "output_type": "execute_result"
    }
   ],
   "source": [
    "w0,w1=h.intercept_,h.coef_\n",
    "w0,w1"
   ]
  },
  {
   "cell_type": "code",
   "execution_count": 674,
   "metadata": {},
   "outputs": [
    {
     "data": {
      "text/plain": [
       "array([0.1       , 0.10016003, 0.10032006, ..., 0.89967994, 0.89983997,\n",
       "       0.9       ])"
      ]
     },
     "execution_count": 674,
     "metadata": {},
     "output_type": "execute_result"
    }
   ],
   "source": [
    "L1=np.linspace(0.1,0.9,5000)\n",
    "L1"
   ]
  },
  {
   "cell_type": "code",
   "execution_count": 675,
   "metadata": {},
   "outputs": [
    {
     "data": {
      "text/plain": [
       "[<matplotlib.lines.Line2D at 0x1a778fa5be0>]"
      ]
     },
     "execution_count": 675,
     "metadata": {},
     "output_type": "execute_result"
    },
    {
     "data": {
      "image/png": "[encoded data removed]",
      "text/plain": [
       "<Figure size 432x288 with 1 Axes>"
      ]
     },
     "metadata": {
      "needs_background": "light"
     },
     "output_type": "display_data"
    }
   ],
   "source": [
    "def Logit(X):\n",
    "    return np.log(X/(1-X))\n",
    "\n",
    "pt.plot(L1,Logit(L1))"
   ]
  },
  {
   "cell_type": "code",
   "execution_count": 676,
   "metadata": {},
   "outputs": [
    {
     "data": {
      "text/plain": [
       "[<matplotlib.lines.Line2D at 0x1a778ffe790>]"
      ]
     },
     "execution_count": 676,
     "metadata": {},
     "output_type": "execute_result"
    },
    {
     "data": {
      "image/png": "[encoded data removed]",
      "text/plain": [
       "<Figure size 432x288 with 1 Axes>"
      ]
     },
     "metadata": {
      "needs_background": "light"
     },
     "output_type": "display_data"
    }
   ],
   "source": [
    "def Sigmoid(X):\n",
    "    return 1/(1+np.exp(-X))\n",
    "\n",
    "pt.plot(X,Sigmoid(X),\"rx\")"
   ]
  },
  {
   "cell_type": "code",
   "execution_count": 677,
   "metadata": {},
   "outputs": [
    {
     "data": {
      "text/plain": [
       "array([1], dtype=int64)"
      ]
     },
     "execution_count": 677,
     "metadata": {},
     "output_type": "execute_result"
    }
   ],
   "source": [
    "h.predict([[197]])"
   ]
  },
  {
   "cell_type": "code",
   "execution_count": 678,
   "metadata": {},
   "outputs": [
    {
     "data": {
      "text/plain": [
       "array([[0.54123309],\n",
       "       [0.13445485],\n",
       "       [0.78442849],\n",
       "       [0.15015258],\n",
       "       [0.45296709],\n",
       "       [0.29639951],\n",
       "       [0.11032732],\n",
       "       [0.28973241],\n",
       "       [0.85096688],\n",
       "       [0.36011425],\n",
       "       [0.25776992],\n",
       "       [0.6918834 ],\n",
       "       [0.46895839],\n",
       "       [0.81528929],\n",
       "       [0.67799569],\n",
       "       [0.20110417],\n",
       "       [0.30999572],\n",
       "       [0.23973433],\n",
       "       [0.2170633 ],\n",
       "       [0.28973241],\n",
       "       [0.3675628 ],\n",
       "       [0.19598353],\n",
       "       [0.84683928],\n",
       "       [0.31692105],\n",
       "       [0.50109998],\n",
       "       [0.36011425],\n",
       "       [0.53323248],\n",
       "       [0.18603958],\n",
       "       [0.517184  ],\n",
       "       [0.30315456],\n",
       "       [0.25166094],\n",
       "       [0.61942856],\n",
       "       [0.14609206],\n",
       "       [0.16289276],\n",
       "       [0.33818051],\n",
       "       [0.2170633 ],\n",
       "       [0.46095269],\n",
       "       [0.21164395],\n",
       "       [0.15430557],\n",
       "       [0.26397488],\n",
       "       [0.76765516],\n",
       "       [0.42130567],\n",
       "       [0.23391808],\n",
       "       [0.71207513],\n",
       "       [0.62698525],\n",
       "       [0.76765516],\n",
       "       [0.52521475],\n",
       "       [0.09007881],\n",
       "       [0.2170633 ],\n",
       "       [0.22820058],\n",
       "       [0.2170633 ],\n",
       "       [0.20632426],\n",
       "       [0.14609206],\n",
       "       [0.74391011],\n",
       "       [0.55716666],\n",
       "       [0.09549535],\n",
       "       [0.80539939],\n",
       "       [0.20110417],\n",
       "       [0.52521475],\n",
       "       [0.22820058],\n",
       "       [0.13075352],\n",
       "       [0.42130567],\n",
       "       [0.03986499],\n",
       "       [0.48501369],\n",
       "       [0.28315492],\n",
       "       [0.19598353],\n",
       "       [0.25166094],\n",
       "       [0.25166094],\n",
       "       [0.17648943],\n",
       "       [0.52521475],\n",
       "       [0.20110417],\n",
       "       [0.46895839],\n",
       "       [0.3675628 ],\n",
       "       [0.39027842],\n",
       "       [0.11352594],\n",
       "       [0.00997583],\n",
       "       [0.06899008],\n",
       "       [0.17648943],\n",
       "       [0.40569792],\n",
       "       [0.27027482],\n",
       "       [0.27666859],\n",
       "       [0.09831148],\n",
       "       [0.12713912],\n",
       "       [0.20632426],\n",
       "       [0.45296709],\n",
       "       [0.25776992],\n",
       "       [0.23391808],\n",
       "       [0.20110417],\n",
       "       [0.44500562],\n",
       "       [0.23973433],\n",
       "       [0.11680512],\n",
       "       [0.34542029],\n",
       "       [0.12016619],\n",
       "       [0.42917101],\n",
       "       [0.49305504],\n",
       "       [0.50914435],\n",
       "       [0.16289276],\n",
       "       [0.09007881],\n",
       "       [0.16732874],\n",
       "       [0.33818051],\n",
       "       [0.65656669],\n",
       "       [0.56509162],\n",
       "       [0.36011425],\n",
       "       [0.12016619],\n",
       "       [0.13445485],\n",
       "       [0.3675628 ],\n",
       "       [0.18121552],\n",
       "       [0.50914435],\n",
       "       [0.12713912],\n",
       "       [0.17648943],\n",
       "       [0.71207513],\n",
       "       [0.59642202],\n",
       "       [0.15015258],\n",
       "       [0.10416638],\n",
       "       [0.63448043],\n",
       "       [0.52521475],\n",
       "       [0.35273245],\n",
       "       [0.11032732],\n",
       "       [0.18603958],\n",
       "       [0.19598353],\n",
       "       [0.64927405],\n",
       "       [0.26397488],\n",
       "       [0.23973433],\n",
       "       [0.41348007],\n",
       "       [0.27666859],\n",
       "       [0.14609206],\n",
       "       [0.32392847],\n",
       "       [0.30999572],\n",
       "       [0.30315456],\n",
       "       [0.22820058],\n",
       "       [0.725089  ],\n",
       "       [0.33818051],\n",
       "       [0.70543237],\n",
       "       [0.13075352],\n",
       "       [0.18121552],\n",
       "       [0.36011425],\n",
       "       [0.20110417],\n",
       "       [0.16732874],\n",
       "       [0.39027842],\n",
       "       [0.22820058],\n",
       "       [0.38264806],\n",
       "       [0.23391808],\n",
       "       [0.24564883],\n",
       "       [0.24564883],\n",
       "       [0.58865238],\n",
       "       [0.21164395],\n",
       "       [0.05934464],\n",
       "       [0.23391808],\n",
       "       [0.53323248],\n",
       "       [0.15430557],\n",
       "       [0.44500562],\n",
       "       [0.28315492],\n",
       "       [0.60414358],\n",
       "       [0.58083829],\n",
       "       [0.81039373],\n",
       "       [0.57298345],\n",
       "       [0.19598353],\n",
       "       [0.25166094],\n",
       "       [0.14609206],\n",
       "       [0.65656669],\n",
       "       [0.56509162],\n",
       "       [0.21164395],\n",
       "       [0.28315492],\n",
       "       [0.20110417],\n",
       "       [0.40569792],\n",
       "       [0.22258223],\n",
       "       [0.54123309],\n",
       "       [0.32392847],\n",
       "       [0.25776992],\n",
       "       [0.26397488],\n",
       "       [0.21164395],\n",
       "       [0.42917101],\n",
       "       [0.14212299],\n",
       "       [0.11352594],\n",
       "       [0.10120136],\n",
       "       [0.76186587],\n",
       "       [0.13445485],\n",
       "       [0.39027842],\n",
       "       [0.50109998],\n",
       "       [0.39796285],\n",
       "       [0.14212299],\n",
       "       [0.31692105],\n",
       "       [0.00997583],\n",
       "       [0.09549535],\n",
       "       [0.48501369],\n",
       "       [0.83830362],\n",
       "       [0.77334559],\n",
       "       [0.38264806],\n",
       "       [0.25166094],\n",
       "       [0.46895839],\n",
       "       [0.26397488],\n",
       "       [0.34542029],\n",
       "       [0.62698525],\n",
       "       [0.43707229],\n",
       "       [0.13445485],\n",
       "       [0.61942856],\n",
       "       [0.22820058],\n",
       "       [0.23973433],\n",
       "       [0.25166094],\n",
       "       [0.54123309],\n",
       "       [0.27666859],\n",
       "       [0.46095269],\n",
       "       [0.24564883],\n",
       "       [0.19598353],\n",
       "       [0.2170633 ],\n",
       "       [0.26397488],\n",
       "       [0.84683928],\n",
       "       [0.64927405],\n",
       "       [0.18121552],\n",
       "       [0.78982058],\n",
       "       [0.12016619],\n",
       "       [0.53323248],\n",
       "       [0.76186587],\n",
       "       [0.47698009],\n",
       "       [0.27027482],\n",
       "       [0.56509162],\n",
       "       [0.25166094],\n",
       "       [0.36011425],\n",
       "       [0.13445485],\n",
       "       [0.27027482],\n",
       "       [0.74999269],\n",
       "       [0.61942856],\n",
       "       [0.31692105],\n",
       "       [0.49305504],\n",
       "       [0.20110417],\n",
       "       [0.14212299],\n",
       "       [0.20632426],\n",
       "       [0.64927405],\n",
       "       [0.85096688],\n",
       "       [0.30315456],\n",
       "       [0.49305504],\n",
       "       [0.42917101],\n",
       "       [0.11352594],\n",
       "       [0.33818051],\n",
       "       [0.09831148],\n",
       "       [0.71207513],\n",
       "       [0.77334559],\n",
       "       [0.76186587],\n",
       "       [0.66378621],\n",
       "       [0.22258223],\n",
       "       [0.15855199],\n",
       "       [0.15855199],\n",
       "       [0.46895839],\n",
       "       [0.31692105],\n",
       "       [0.52521475],\n",
       "       [0.78982058],\n",
       "       [0.33818051],\n",
       "       [0.67093003],\n",
       "       [0.35273245],\n",
       "       [0.26397488],\n",
       "       [0.23391808],\n",
       "       [0.39027842],\n",
       "       [0.15430557],\n",
       "       [0.13824429],\n",
       "       [0.16289276],\n",
       "       [0.27666859],\n",
       "       [0.26397488],\n",
       "       [0.28315492],\n",
       "       [0.83389376],\n",
       "       [0.59642202],\n",
       "       [0.82478591],\n",
       "       [0.48501369],\n",
       "       [0.17648943],\n",
       "       [0.49305504],\n",
       "       [0.34542029],\n",
       "       [0.18121552],\n",
       "       [0.46095269],\n",
       "       [0.38264806],\n",
       "       [0.21164395],\n",
       "       [0.52521475],\n",
       "       [0.20632426],\n",
       "       [0.24564883],\n",
       "       [0.33818051],\n",
       "       [0.09007881],\n",
       "       [0.23391808],\n",
       "       [0.20110417],\n",
       "       [0.23391808],\n",
       "       [0.22258223],\n",
       "       [0.28315492],\n",
       "       [0.24564883],\n",
       "       [0.52521475],\n",
       "       [0.39027842],\n",
       "       [0.42130567],\n",
       "       [0.64191102],\n",
       "       [0.24564883],\n",
       "       [0.44500562],\n",
       "       [0.59642202],\n",
       "       [0.31692105],\n",
       "       [0.18121552],\n",
       "       [0.24564883],\n",
       "       [0.11032732],\n",
       "       [0.23973433],\n",
       "       [0.38264806],\n",
       "       [0.38264806],\n",
       "       [0.64191102],\n",
       "       [0.56509162],\n",
       "       [0.52521475],\n",
       "       [0.3675628 ],\n",
       "       [0.20110417],\n",
       "       [0.27027482],\n",
       "       [0.68498088],\n",
       "       [0.50914435],\n",
       "       [0.10720791],\n",
       "       [0.28973241],\n",
       "       [0.55716666],\n",
       "       [0.32392847],\n",
       "       [0.64191102],\n",
       "       [0.45296709],\n",
       "       [0.38264806],\n",
       "       [0.35273245],\n",
       "       [0.11680512],\n",
       "       [0.23391808],\n",
       "       [0.59642202],\n",
       "       [0.27666859],\n",
       "       [0.25166094],\n",
       "       [0.27027482],\n",
       "       [0.19598353],\n",
       "       [0.77893677],\n",
       "       [0.28973241],\n",
       "       [0.83830362],\n",
       "       [0.39027842],\n",
       "       [0.27027482],\n",
       "       [0.35273245],\n",
       "       [0.57298345],\n",
       "       [0.27027482],\n",
       "       [0.61181357],\n",
       "       [0.33818051],\n",
       "       [0.76186587],\n",
       "       [0.21164395],\n",
       "       [0.22820058],\n",
       "       [0.30999572],\n",
       "       [0.14212299],\n",
       "       [0.76765516],\n",
       "       [0.23391808],\n",
       "       [0.17648943],\n",
       "       [0.67093003],\n",
       "       [0.30315456],\n",
       "       [0.28973241],\n",
       "       [0.57298345],\n",
       "       [0.75597818],\n",
       "       [0.39796285],\n",
       "       [0.17648943],\n",
       "       [0.00997583],\n",
       "       [0.33818051],\n",
       "       [0.17648943],\n",
       "       [0.3675628 ],\n",
       "       [0.46895839],\n",
       "       [0.29639951],\n",
       "       [0.19598353],\n",
       "       [0.00997583],\n",
       "       [0.16289276],\n",
       "       [0.45296709],\n",
       "       [0.0669515 ],\n",
       "       [0.15430557],\n",
       "       [0.15430557],\n",
       "       [0.67093003],\n",
       "       [0.36011425],\n",
       "       [0.39027842],\n",
       "       [0.14609206],\n",
       "       [0.84683928],\n",
       "       [0.81528929],\n",
       "       [0.61942856],\n",
       "       [0.2170633 ],\n",
       "       [0.52521475],\n",
       "       [0.53323248],\n",
       "       [0.19598353],\n",
       "       [0.35273245],\n",
       "       [0.20632426],\n",
       "       [0.12016619],\n",
       "       [0.42130567],\n",
       "       [0.725089  ],\n",
       "       [0.30999572],\n",
       "       [0.13075352],\n",
       "       [0.22820058],\n",
       "       [0.33818051],\n",
       "       [0.47698009],\n",
       "       [0.19096211],\n",
       "       [0.14212299],\n",
       "       [0.60414358],\n",
       "       [0.16732874],\n",
       "       [0.23973433],\n",
       "       [0.22820058],\n",
       "       [0.25166094],\n",
       "       [0.15430557],\n",
       "       [0.36011425],\n",
       "       [0.31692105],\n",
       "       [0.29639951],\n",
       "       [0.22820058],\n",
       "       [0.50914435],\n",
       "       [0.20110417],\n",
       "       [0.20110417],\n",
       "       [0.67799569],\n",
       "       [0.40569792],\n",
       "       [0.29639951],\n",
       "       [0.61942856],\n",
       "       [0.37507511],\n",
       "       [0.18121552],\n",
       "       [0.40569792],\n",
       "       [0.12361043],\n",
       "       [0.83389376],\n",
       "       [0.17648943],\n",
       "       [0.45296709],\n",
       "       [0.44500562],\n",
       "       [0.09275159],\n",
       "       [0.6918834 ],\n",
       "       [0.34542029],\n",
       "       [0.28973241],\n",
       "       [0.20632426],\n",
       "       [0.85096688],\n",
       "       [0.71862785],\n",
       "       [0.21164395],\n",
       "       [0.27027482],\n",
       "       [0.50109998],\n",
       "       [0.50109998],\n",
       "       [0.46095269],\n",
       "       [0.725089  ],\n",
       "       [0.18603958],\n",
       "       [0.50914435],\n",
       "       [0.12713912],\n",
       "       [0.39027842],\n",
       "       [0.31692105],\n",
       "       [0.17186072],\n",
       "       [0.21164395],\n",
       "       [0.28973241],\n",
       "       [0.56509162],\n",
       "       [0.78982058],\n",
       "       [0.17186072],\n",
       "       [0.77334559],\n",
       "       [0.43707229],\n",
       "       [0.17648943],\n",
       "       [0.19598353],\n",
       "       [0.15015258],\n",
       "       [0.11680512],\n",
       "       [0.46895839],\n",
       "       [0.15430557],\n",
       "       [0.48501369],\n",
       "       [0.47698009],\n",
       "       [0.53323248],\n",
       "       [0.18603958],\n",
       "       [0.23973433],\n",
       "       [0.81528929],\n",
       "       [0.12713912],\n",
       "       [0.30315456],\n",
       "       [0.24564883],\n",
       "       [0.30315456],\n",
       "       [0.76765516],\n",
       "       [0.20110417],\n",
       "       [0.17648943],\n",
       "       [0.22258223],\n",
       "       [0.32392847],\n",
       "       [0.12361043],\n",
       "       [0.42917101],\n",
       "       [0.15855199],\n",
       "       [0.31692105],\n",
       "       [0.20110417],\n",
       "       [0.73773131],\n",
       "       [0.43707229],\n",
       "       [0.13824429],\n",
       "       [0.54123309],\n",
       "       [0.42917101],\n",
       "       [0.32392847],\n",
       "       [0.09007881],\n",
       "       [0.09831148],\n",
       "       [0.14609206],\n",
       "       [0.28973241],\n",
       "       [0.35273245],\n",
       "       [0.09831148],\n",
       "       [0.18603958],\n",
       "       [0.32392847],\n",
       "       [0.58865238],\n",
       "       [0.50914435],\n",
       "       [0.45296709],\n",
       "       [0.31692105],\n",
       "       [0.44500562],\n",
       "       [0.28315492],\n",
       "       [0.45296709],\n",
       "       [0.22820058],\n",
       "       [0.28315492],\n",
       "       [0.3675628 ],\n",
       "       [0.41348007],\n",
       "       [0.61942856],\n",
       "       [0.34542029],\n",
       "       [0.13445485],\n",
       "       [0.13075352],\n",
       "       [0.517184  ],\n",
       "       [0.43707229],\n",
       "       [0.46895839],\n",
       "       [0.725089  ],\n",
       "       [0.19598353],\n",
       "       [0.83830362],\n",
       "       [0.12713912],\n",
       "       [0.15015258],\n",
       "       [0.19598353],\n",
       "       [0.36011425],\n",
       "       [0.11680512],\n",
       "       [0.67799569],\n",
       "       [0.25776992],\n",
       "       [0.12016619],\n",
       "       [0.8426185 ],\n",
       "       [0.58865238],\n",
       "       [0.30315456],\n",
       "       [0.13075352],\n",
       "       [0.00997583],\n",
       "       [0.17186072],\n",
       "       [0.18121552],\n",
       "       [0.10120136],\n",
       "       [0.76765516],\n",
       "       [0.39796285],\n",
       "       [0.13075352],\n",
       "       [0.32392847],\n",
       "       [0.13075352],\n",
       "       [0.46895839],\n",
       "       [0.15855199],\n",
       "       [0.15855199],\n",
       "       [0.19598353],\n",
       "       [0.65656669],\n",
       "       [0.517184  ],\n",
       "       [0.36011425],\n",
       "       [0.10416638],\n",
       "       [0.39027842],\n",
       "       [0.08247249],\n",
       "       [0.35273245],\n",
       "       [0.28315492],\n",
       "       [0.39796285],\n",
       "       [0.36011425],\n",
       "       [0.14212299],\n",
       "       [0.18603958],\n",
       "       [0.29639951],\n",
       "       [0.30315456],\n",
       "       [0.26397488],\n",
       "       [0.33818051],\n",
       "       [0.23973433],\n",
       "       [0.13824429],\n",
       "       [0.15855199],\n",
       "       [0.10720791],\n",
       "       [0.41348007],\n",
       "       [0.22820058],\n",
       "       [0.05934464],\n",
       "       [0.37507511],\n",
       "       [0.39027842],\n",
       "       [0.20110417],\n",
       "       [0.38264806],\n",
       "       [0.15430557],\n",
       "       [0.13075352],\n",
       "       [0.14609206],\n",
       "       [0.80030591],\n",
       "       [0.80539939],\n",
       "       [0.40569792],\n",
       "       [0.66378621],\n",
       "       [0.81528929],\n",
       "       [0.29639951],\n",
       "       [0.13075352],\n",
       "       [0.28315492],\n",
       "       [0.14609206],\n",
       "       [0.13075352],\n",
       "       [0.35273245],\n",
       "       [0.18603958],\n",
       "       [0.25776992],\n",
       "       [0.2170633 ],\n",
       "       [0.13445485],\n",
       "       [0.36011425],\n",
       "       [0.8550023 ],\n",
       "       [0.14212299],\n",
       "       [0.19598353],\n",
       "       [0.15855199],\n",
       "       [0.17648943],\n",
       "       [0.19598353],\n",
       "       [0.16289276],\n",
       "       [0.58865238],\n",
       "       [0.33101574],\n",
       "       [0.11032732],\n",
       "       [0.39796285],\n",
       "       [0.26397488],\n",
       "       [0.19096211],\n",
       "       [0.50109998],\n",
       "       [0.31692105],\n",
       "       [0.24564883],\n",
       "       [0.30999572],\n",
       "       [0.42130567],\n",
       "       [0.85096688],\n",
       "       [0.56509162],\n",
       "       [0.25166094],\n",
       "       [0.33101574],\n",
       "       [0.20110417],\n",
       "       [0.35273245],\n",
       "       [0.16732874],\n",
       "       [0.50109998],\n",
       "       [0.2170633 ],\n",
       "       [0.74391011],\n",
       "       [0.09549535],\n",
       "       [0.26397488],\n",
       "       [0.27027482],\n",
       "       [0.41348007],\n",
       "       [0.12361043],\n",
       "       [0.34542029],\n",
       "       [0.81039373],\n",
       "       [0.08006978],\n",
       "       [0.15015258],\n",
       "       [0.725089  ],\n",
       "       [0.25166094],\n",
       "       [0.24564883],\n",
       "       [0.18121552],\n",
       "       [0.35273245],\n",
       "       [0.55716666],\n",
       "       [0.78442849],\n",
       "       [0.35273245],\n",
       "       [0.77334559],\n",
       "       [0.16289276],\n",
       "       [0.57298345],\n",
       "       [0.26397488],\n",
       "       [0.23391808],\n",
       "       [0.73145723],\n",
       "       [0.6918834 ],\n",
       "       [0.22820058],\n",
       "       [0.46095269],\n",
       "       [0.23391808],\n",
       "       [0.30315456],\n",
       "       [0.08247249],\n",
       "       [0.27027482],\n",
       "       [0.31692105],\n",
       "       [0.27027482],\n",
       "       [0.16289276],\n",
       "       [0.78442849],\n",
       "       [0.17186072],\n",
       "       [0.24564883],\n",
       "       [0.15430557],\n",
       "       [0.36011425],\n",
       "       [0.41348007],\n",
       "       [0.38264806],\n",
       "       [0.17186072],\n",
       "       [0.28315492],\n",
       "       [0.21164395],\n",
       "       [0.26397488],\n",
       "       [0.38264806],\n",
       "       [0.16289276],\n",
       "       [0.22258223],\n",
       "       [0.22258223],\n",
       "       [0.17186072],\n",
       "       [0.18603958],\n",
       "       [0.20110417],\n",
       "       [0.21164395],\n",
       "       [0.38264806],\n",
       "       [0.53323248],\n",
       "       [0.15430557],\n",
       "       [0.2170633 ],\n",
       "       [0.61181357],\n",
       "       [0.68498088],\n",
       "       [0.76186587],\n",
       "       [0.44500562],\n",
       "       [0.23973433],\n",
       "       [0.15855199],\n",
       "       [0.30315456],\n",
       "       [0.34542029],\n",
       "       [0.32392847],\n",
       "       [0.23391808],\n",
       "       [0.59642202],\n",
       "       [0.20632426],\n",
       "       [0.32392847],\n",
       "       [0.37507511],\n",
       "       [0.11680512],\n",
       "       [0.64927405],\n",
       "       [0.85894655],\n",
       "       [0.68498088],\n",
       "       [0.517184  ],\n",
       "       [0.28973241],\n",
       "       [0.27027482],\n",
       "       [0.517184  ],\n",
       "       [0.26397488],\n",
       "       [0.19096211],\n",
       "       [0.58865238],\n",
       "       [0.67093003],\n",
       "       [0.19598353],\n",
       "       [0.08247249],\n",
       "       [0.34542029],\n",
       "       [0.15855199],\n",
       "       [0.8426185 ],\n",
       "       [0.60414358],\n",
       "       [0.16732874],\n",
       "       [0.33101574],\n",
       "       [0.20632426],\n",
       "       [0.05757344],\n",
       "       [0.64927405],\n",
       "       [0.17648943],\n",
       "       [0.36011425],\n",
       "       [0.44500562],\n",
       "       [0.39027842],\n",
       "       [0.39796285],\n",
       "       [0.23973433],\n",
       "       [0.47698009],\n",
       "       [0.50914435],\n",
       "       [0.23973433],\n",
       "       [0.61942856],\n",
       "       [0.33101574],\n",
       "       [0.39027842],\n",
       "       [0.15430557],\n",
       "       [0.49305504],\n",
       "       [0.6987012 ],\n",
       "       [0.19598353],\n",
       "       [0.37507511],\n",
       "       [0.30999572],\n",
       "       [0.33818051],\n",
       "       [0.36011425],\n",
       "       [0.6918834 ],\n",
       "       [0.39027842],\n",
       "       [0.25776992],\n",
       "       [0.11680512],\n",
       "       [0.28973241],\n",
       "       [0.37507511],\n",
       "       [0.66378621],\n",
       "       [0.16732874],\n",
       "       [0.61942856],\n",
       "       [0.3675628 ],\n",
       "       [0.39027842],\n",
       "       [0.42917101],\n",
       "       [0.21164395],\n",
       "       [0.80539939],\n",
       "       [0.725089  ],\n",
       "       [0.17186072],\n",
       "       [0.24564883],\n",
       "       [0.18603958],\n",
       "       [0.12713912],\n",
       "       [0.28315492],\n",
       "       [0.54921249],\n",
       "       [0.30315456],\n",
       "       [0.26397488],\n",
       "       [0.27027482],\n",
       "       [0.29639951],\n",
       "       [0.48501369],\n",
       "       [0.73773131],\n",
       "       [0.16289276],\n",
       "       [0.39796285],\n",
       "       [0.32392847],\n",
       "       [0.73145723],\n",
       "       [0.23391808],\n",
       "       [0.22820058],\n",
       "       [0.17648943],\n",
       "       [0.3675628 ],\n",
       "       [0.07545519],\n",
       "       [0.19598353],\n",
       "       [0.21164395],\n",
       "       [0.32392847],\n",
       "       [0.21164395],\n",
       "       [0.25166094],\n",
       "       [0.47698009],\n",
       "       [0.58083829],\n",
       "       [0.20110417],\n",
       "       [0.53323248],\n",
       "       [0.12016619],\n",
       "       [0.80539939],\n",
       "       [0.64927405],\n",
       "       [0.44500562],\n",
       "       [0.33101574],\n",
       "       [0.24564883],\n",
       "       [0.77334559],\n",
       "       [0.58865238],\n",
       "       [0.38264806],\n",
       "       [0.45296709],\n",
       "       [0.34542029],\n",
       "       [0.23391808],\n",
       "       [0.82008651],\n",
       "       [0.14609206],\n",
       "       [0.70543237],\n",
       "       [0.15015258],\n",
       "       [0.20632426],\n",
       "       [0.33818051],\n",
       "       [0.33101574],\n",
       "       [0.3675628 ],\n",
       "       [0.16732874]])"
      ]
     },
     "execution_count": 678,
     "metadata": {},
     "output_type": "execute_result"
    }
   ],
   "source": [
    "def model(X):\n",
    "    return (1/(1+np.exp(-w0-w1*X)))\n",
    "\n",
    "model(X)"
   ]
  },
  {
   "cell_type": "code",
   "execution_count": 679,
   "metadata": {},
   "outputs": [
    {
     "data": {
      "text/plain": [
       "array([[0.85096688]])"
      ]
     },
     "execution_count": 679,
     "metadata": {},
     "output_type": "execute_result"
    }
   ],
   "source": [
    "model([[197]])"
   ]
  },
  {
   "cell_type": "code",
   "execution_count": 680,
   "metadata": {},
   "outputs": [],
   "source": [
    "# Le personne ayant un glucose 197 appartient à la classe 1"
   ]
  },
  {
   "cell_type": "code",
   "execution_count": 681,
   "metadata": {
    "scrolled": true
   },
   "outputs": [
    {
     "data": {
      "text/plain": [
       "array([[0.25776992],\n",
       "       [0.46895839],\n",
       "       [0.20110417],\n",
       "       [0.13075352],\n",
       "       [0.03986499]])"
      ]
     },
     "execution_count": 681,
     "metadata": {},
     "output_type": "execute_result"
    }
   ],
   "source": [
    "model([[110],[139],[100],[84],[44]])"
   ]
  },
  {
   "cell_type": "code",
   "execution_count": 682,
   "metadata": {},
   "outputs": [],
   "source": [
    "# tous ces personnes appartiennent à la casse 0"
   ]
  },
  {
   "cell_type": "code",
   "execution_count": 683,
   "metadata": {},
   "outputs": [
    {
     "data": {
      "text/plain": [
       "array([0, 0, 0, 0, 0], dtype=int64)"
      ]
     },
     "execution_count": 683,
     "metadata": {},
     "output_type": "execute_result"
    }
   ],
   "source": [
    "# verification\n",
    "h.predict([[110],[139],[100],[84],[44]])"
   ]
  },
  {
   "cell_type": "code",
   "execution_count": 684,
   "metadata": {},
   "outputs": [],
   "source": [
    "#4\n",
    "#4-a- la matrice de confusion est une matrice qui mesure la qualité d'un système de classification. \n",
    "# Chaque ligne correspond à une classe réelle, chaque colonne correspond à une classe estimée.\n",
    "# en cas de d’une classification binaire :  FP, TP, FN, TN\n",
    "# en cas d’une multinomial classification : plus que 4 elements"
   ]
  },
  {
   "cell_type": "code",
   "execution_count": 685,
   "metadata": {},
   "outputs": [],
   "source": [
    "# True negatives: réalité= 0 et la prédiction= 0\n",
    "# True positives:  réalité= 1 et la prédiction= 1\n",
    "# False negatives: réalité= 1 et la prédiction= 0\n",
    "# False positives:  réalité= 0 et la prédiction= 1"
   ]
  },
  {
   "cell_type": "code",
   "execution_count": 686,
   "metadata": {},
   "outputs": [],
   "source": [
    "y_true=[0,0,0,0,1,1,1,1,1,1]\n",
    "y_pred=[0,0,0,1,1,0,1,1,0,1]"
   ]
  },
  {
   "cell_type": "code",
   "execution_count": 687,
   "metadata": {},
   "outputs": [
    {
     "data": {
      "text/plain": [
       "array([[3, 1],\n",
       "       [2, 4]], dtype=int64)"
      ]
     },
     "execution_count": 687,
     "metadata": {},
     "output_type": "execute_result"
    }
   ],
   "source": [
    "confusion_matrix(y_true, y_pred)"
   ]
  },
  {
   "cell_type": "code",
   "execution_count": 688,
   "metadata": {},
   "outputs": [
    {
     "data": {
      "text/plain": [
       "array([[3, 1],\n",
       "       [2, 4]])"
      ]
     },
     "execution_count": 688,
     "metadata": {},
     "output_type": "execute_result"
    }
   ],
   "source": [
    "def matrice_confusion(y_true, y_pred):\n",
    "    matrice=[[0,0],[0,0]]\n",
    "    for i,j in zip(y_true,y_pred):\n",
    "        if i==0 and j==0:\n",
    "            matrice[0][0]+=1\n",
    "        elif i==0 and j==1:\n",
    "            matrice[0][1]+=1\n",
    "        elif i==1 and j==0:\n",
    "            matrice[1][0]+=1\n",
    "        else:\n",
    "            matrice[1][1]+=1\n",
    "    \n",
    "    return np.array(matrice)\n",
    "\n",
    "matrice_confusion(y_true,y_pred)"
   ]
  },
  {
   "cell_type": "code",
   "execution_count": 689,
   "metadata": {},
   "outputs": [
    {
     "data": {
      "text/plain": [
       "array([[99,  0],\n",
       "       [55,  0]])"
      ]
     },
     "execution_count": 689,
     "metadata": {},
     "output_type": "execute_result"
    }
   ],
   "source": [
    "y=np.array(y_test).reshape(-1,1)\n",
    "matrice_confusion(y,h.predict(y))"
   ]
  },
  {
   "cell_type": "code",
   "execution_count": 690,
   "metadata": {},
   "outputs": [
    {
     "data": {
      "text/plain": [
       "array([[3, 1],\n",
       "       [2, 4]], dtype=int64)"
      ]
     },
     "execution_count": 690,
     "metadata": {},
     "output_type": "execute_result"
    }
   ],
   "source": [
    "matrix=confusion_matrix(y, h.predict(y))\n",
    "\n",
    "matrix2=confusion_matrix(y_true, y_pred)\n",
    "matrix2"
   ]
  },
  {
   "cell_type": "code",
   "execution_count": 691,
   "metadata": {},
   "outputs": [
    {
     "data": {
      "text/plain": [
       "0.6428571428571429"
      ]
     },
     "execution_count": 691,
     "metadata": {},
     "output_type": "execute_result"
    }
   ],
   "source": [
    "# accuracy metric\n",
    "def accuracy(matrix):\n",
    "    return (matrix[0][0]+matrix[1][1])/(np.sum(matrix))\n",
    "\n",
    "accuracy(matrix)"
   ]
  },
  {
   "cell_type": "code",
   "execution_count": 692,
   "metadata": {},
   "outputs": [
    {
     "data": {
      "text/plain": [
       "0.7"
      ]
     },
     "execution_count": 692,
     "metadata": {},
     "output_type": "execute_result"
    }
   ],
   "source": [
    "accuracy(matrix2)"
   ]
  },
  {
   "cell_type": "code",
   "execution_count": 693,
   "metadata": {},
   "outputs": [
    {
     "data": {
      "text/plain": [
       "0.6428571428571429"
      ]
     },
     "execution_count": 693,
     "metadata": {},
     "output_type": "execute_result"
    }
   ],
   "source": [
    "accuracy_score(y,h.predict(y))"
   ]
  },
  {
   "cell_type": "code",
   "execution_count": 694,
   "metadata": {},
   "outputs": [
    {
     "name": "stderr",
     "output_type": "stream",
     "text": [
      "<ipython-input-694-7984f5c15b13>:3: RuntimeWarning: invalid value encountered in longlong_scalars\n",
      "  return matrix[1][1]/(matrix[0][1]+matrix[1][1])\n"
     ]
    },
    {
     "data": {
      "text/plain": [
       "nan"
      ]
     },
     "execution_count": 694,
     "metadata": {},
     "output_type": "execute_result"
    }
   ],
   "source": [
    "# 𝑝𝑟𝑒𝑐𝑖𝑠𝑖𝑜𝑛\n",
    "def 𝑝𝑟𝑒𝑐𝑖𝑠𝑖𝑜𝑛(matrix):\n",
    "    return matrix[1][1]/(matrix[0][1]+matrix[1][1])\n",
    "\n",
    "pression=𝑝𝑟𝑒𝑐𝑖𝑠𝑖𝑜𝑛(matrix)\n",
    "pression"
   ]
  },
  {
   "cell_type": "code",
   "execution_count": 695,
   "metadata": {},
   "outputs": [
    {
     "data": {
      "text/plain": [
       "0.8"
      ]
     },
     "execution_count": 695,
     "metadata": {},
     "output_type": "execute_result"
    }
   ],
   "source": [
    "pression2=𝑝𝑟𝑒𝑐𝑖𝑠𝑖𝑜𝑛(matrix2)\n",
    "pression2"
   ]
  },
  {
   "cell_type": "code",
   "execution_count": 696,
   "metadata": {},
   "outputs": [],
   "source": [
    "# recall\n",
    "def recall(matrix):\n",
    "    x=matrix[1][1]/(matrix[1][0]+matrix[1][1])\n",
    "    return x\n",
    "\n",
    "rec=recall(matrix)"
   ]
  },
  {
   "cell_type": "code",
   "execution_count": 697,
   "metadata": {},
   "outputs": [],
   "source": [
    "rec2=recall(matrix2)"
   ]
  },
  {
   "cell_type": "code",
   "execution_count": 698,
   "metadata": {},
   "outputs": [
    {
     "data": {
      "text/plain": [
       "nan"
      ]
     },
     "execution_count": 698,
     "metadata": {},
     "output_type": "execute_result"
    }
   ],
   "source": [
    "def f1score(pression, recall):\n",
    "    x=2.*(pression*recall)/(pression+recall)\n",
    "    return x\n",
    "\n",
    "f1score(pression,rec)"
   ]
  },
  {
   "cell_type": "code",
   "execution_count": 699,
   "metadata": {},
   "outputs": [
    {
     "data": {
      "text/plain": [
       "0.7272727272727272"
      ]
     },
     "execution_count": 699,
     "metadata": {},
     "output_type": "execute_result"
    }
   ],
   "source": [
    "f1score(pression2,rec2)"
   ]
  },
  {
   "cell_type": "code",
   "execution_count": 700,
   "metadata": {},
   "outputs": [
    {
     "name": "stderr",
     "output_type": "stream",
     "text": [
      "C:\\ProgramData\\Anaconda3\\lib\\site-packages\\sklearn\\metrics\\_classification.py:1221: UndefinedMetricWarning: Precision and F-score are ill-defined and being set to 0.0 in labels with no predicted samples. Use `zero_division` parameter to control this behavior.\n",
      "  _warn_prf(average, modifier, msg_start, len(result))\n"
     ]
    },
    {
     "data": {
      "text/plain": [
       "(array([0.64285714, 0.        ]),\n",
       " array([1., 0.]),\n",
       " array([0.7826087, 0.       ]),\n",
       " array([99, 55], dtype=int64))"
      ]
     },
     "execution_count": 700,
     "metadata": {},
     "output_type": "execute_result"
    }
   ],
   "source": [
    "y=[[i] for i in y_test]\n",
    "precision_recall_fscore_support(y, h.predict(y), average=None)"
   ]
  },
  {
   "cell_type": "code",
   "execution_count": 701,
   "metadata": {
    "scrolled": true
   },
   "outputs": [
    {
     "name": "stdout",
     "output_type": "stream",
     "text": [
      "-53.67000000000001   -8.469000000000001\n"
     ]
    },
    {
     "data": {
      "text/plain": [
       "(0.017469000000000002, 0.11067000000000002)"
      ]
     },
     "execution_count": 701,
     "metadata": {},
     "output_type": "execute_result"
    }
   ],
   "source": [
    "#program 1\n",
    "X=np.array([0,1,2,3,4,5,6,7,8,9])\n",
    "y=np.array([0,1,2,3,4,5,6,7,8,9])\n",
    "\n",
    "def gradientDescent(X,y): \n",
    "    n_samples=len(y) \n",
    "    learning_rate=0.001 \n",
    "    n_iterations=2\n",
    "    bias=0\n",
    "    w=0 #ligne 6 \n",
    "    for _ in range(n_iterations): \n",
    "        y_predicted=w*X+bias #ligne 8\n",
    "        d_w=(2/n_samples)*np.sum(X*(y_predicted-y)) #ligne 9\n",
    "        d_bias=(2/n_samples)*np.sum( (y_predicted-y)) #ligne 10\n",
    "        w=w- learning_rate*d_w #ligne 11\n",
    "        bias=bias-learning_rate*d_bias #ligne 12\n",
    "    print(d_w,\" \",d_bias)\n",
    "    return bias,w \n",
    "\n",
    "biais,w=gradientDescent(X,y)\n",
    "biais,w"
   ]
  },
  {
   "cell_type": "markdown",
   "metadata": {},
   "source": [
    "# Exercice 4"
   ]
  },
  {
   "cell_type": "code",
   "execution_count": 702,
   "metadata": {},
   "outputs": [],
   "source": [
    "df=pd.read_csv(\"diabetes.csv\")\n",
    "X=df['Glucose']\n",
    "y=df['Outcome']\n",
    "X=[[i] for i in X]\n",
    "X=np.array(X)\n",
    "\n",
    "def gradientDescent(X,y): \n",
    "    n_samples,n_features=X.shape \n",
    "    learning_rate=0.001 \n",
    "    n_iterations=100 \n",
    "    bias=0\n",
    "    W=np.zeros(n_features) #ligne 6 \n",
    "    for _ in range(n_iterations): \n",
    "        y_predicted=np.dot(X,W)+bias #ligne 8 \n",
    "        d_W=(2/n_samples)*np.dot(X.T,(y_predicted-y)) #ligne 9 \n",
    "        d_bias=(2/n_samples)*np.sum(y_predicted-y) #ligne 10 \n",
    "        W-= learning_rate *d_W #ligne 11\n",
    "        bias-= learning_rate *d_bias #ligne 12 \n",
    "    \n",
    "    return bias,W\n",
    "\n",
    "#modification?"
   ]
  },
  {
   "cell_type": "code",
   "execution_count": 703,
   "metadata": {
    "scrolled": true
   },
   "outputs": [
    {
     "data": {
      "text/plain": [
       "(-3.1249756748674015e+143, array([-4.04180244e+145]))"
      ]
     },
     "execution_count": 703,
     "metadata": {},
     "output_type": "execute_result"
    }
   ],
   "source": [
    "gradientDescent(X,y)"
   ]
  },
  {
   "cell_type": "code",
   "execution_count": 704,
   "metadata": {
    "scrolled": false
   },
   "outputs": [
    {
     "data": {
      "text/plain": [
       "[1,\n",
       " 0,\n",
       " 1,\n",
       " 0,\n",
       " 0,\n",
       " 0,\n",
       " 0,\n",
       " 0,\n",
       " 1,\n",
       " 0,\n",
       " 0,\n",
       " 1,\n",
       " 0,\n",
       " 1,\n",
       " 1,\n",
       " 0,\n",
       " 0,\n",
       " 0,\n",
       " 0,\n",
       " 0,\n",
       " 0,\n",
       " 0,\n",
       " 1,\n",
       " 0,\n",
       " 1,\n",
       " 0,\n",
       " 1,\n",
       " 0,\n",
       " 1,\n",
       " 0,\n",
       " 0,\n",
       " 1,\n",
       " 0,\n",
       " 0,\n",
       " 0,\n",
       " 0,\n",
       " 0,\n",
       " 0,\n",
       " 0,\n",
       " 0,\n",
       " 1,\n",
       " 0,\n",
       " 0,\n",
       " 1,\n",
       " 1,\n",
       " 1,\n",
       " 1,\n",
       " 0,\n",
       " 0,\n",
       " 0,\n",
       " 0,\n",
       " 0,\n",
       " 0,\n",
       " 1,\n",
       " 1,\n",
       " 0,\n",
       " 1,\n",
       " 0,\n",
       " 1,\n",
       " 0,\n",
       " 0,\n",
       " 0,\n",
       " 0,\n",
       " 0,\n",
       " 0,\n",
       " 0,\n",
       " 0,\n",
       " 0,\n",
       " 0,\n",
       " 1,\n",
       " 0,\n",
       " 0,\n",
       " 0,\n",
       " 0,\n",
       " 0,\n",
       " 0,\n",
       " 0,\n",
       " 0,\n",
       " 0,\n",
       " 0,\n",
       " 0,\n",
       " 0,\n",
       " 0,\n",
       " 0,\n",
       " 0,\n",
       " 0,\n",
       " 0,\n",
       " 0,\n",
       " 0,\n",
       " 0,\n",
       " 0,\n",
       " 0,\n",
       " 0,\n",
       " 0,\n",
       " 0,\n",
       " 1,\n",
       " 0,\n",
       " 0,\n",
       " 0,\n",
       " 0,\n",
       " 1,\n",
       " 1,\n",
       " 0,\n",
       " 0,\n",
       " 0,\n",
       " 0,\n",
       " 0,\n",
       " 1,\n",
       " 0,\n",
       " 0,\n",
       " 1,\n",
       " 1,\n",
       " 0,\n",
       " 0,\n",
       " 1,\n",
       " 1,\n",
       " 0,\n",
       " 0,\n",
       " 0,\n",
       " 0,\n",
       " 1,\n",
       " 0,\n",
       " 0,\n",
       " 0,\n",
       " 0,\n",
       " 0,\n",
       " 0,\n",
       " 0,\n",
       " 0,\n",
       " 0,\n",
       " 1,\n",
       " 0,\n",
       " 1,\n",
       " 0,\n",
       " 0,\n",
       " 0,\n",
       " 0,\n",
       " 0,\n",
       " 0,\n",
       " 0,\n",
       " 0,\n",
       " 0,\n",
       " 0,\n",
       " 0,\n",
       " 1,\n",
       " 0,\n",
       " 0,\n",
       " 0,\n",
       " 1,\n",
       " 0,\n",
       " 0,\n",
       " 0,\n",
       " 1,\n",
       " 1,\n",
       " 1,\n",
       " 1,\n",
       " 0,\n",
       " 0,\n",
       " 0,\n",
       " 1,\n",
       " 1,\n",
       " 0,\n",
       " 0,\n",
       " 0,\n",
       " 0,\n",
       " 0,\n",
       " 1,\n",
       " 0,\n",
       " 0,\n",
       " 0,\n",
       " 0,\n",
       " 0,\n",
       " 0,\n",
       " 0,\n",
       " 0,\n",
       " 1,\n",
       " 0,\n",
       " 0,\n",
       " 1,\n",
       " 0,\n",
       " 0,\n",
       " 0,\n",
       " 0,\n",
       " 0,\n",
       " 0,\n",
       " 1,\n",
       " 1,\n",
       " 0,\n",
       " 0,\n",
       " 0,\n",
       " 0,\n",
       " 0,\n",
       " 1,\n",
       " 0,\n",
       " 0,\n",
       " 1,\n",
       " 0,\n",
       " 0,\n",
       " 0,\n",
       " 1,\n",
       " 0,\n",
       " 0,\n",
       " 0,\n",
       " 0,\n",
       " 0,\n",
       " 0,\n",
       " 1,\n",
       " 1,\n",
       " 0,\n",
       " 1,\n",
       " 0,\n",
       " 1,\n",
       " 1,\n",
       " 0,\n",
       " 0,\n",
       " 1,\n",
       " 0,\n",
       " 0,\n",
       " 0,\n",
       " 0,\n",
       " 1,\n",
       " 1,\n",
       " 0,\n",
       " 0,\n",
       " 0,\n",
       " 0,\n",
       " 0,\n",
       " 1,\n",
       " 1,\n",
       " 0,\n",
       " 0,\n",
       " 0,\n",
       " 0,\n",
       " 0,\n",
       " 0,\n",
       " 1,\n",
       " 1,\n",
       " 1,\n",
       " 1,\n",
       " 0,\n",
       " 0,\n",
       " 0,\n",
       " 0,\n",
       " 0,\n",
       " 1,\n",
       " 1,\n",
       " 0,\n",
       " 1,\n",
       " 0,\n",
       " 0,\n",
       " 0,\n",
       " 0,\n",
       " 0,\n",
       " 0,\n",
       " 0,\n",
       " 0,\n",
       " 0,\n",
       " 0,\n",
       " 1,\n",
       " 1,\n",
       " 1,\n",
       " 0,\n",
       " 0,\n",
       " 0,\n",
       " 0,\n",
       " 0,\n",
       " 0,\n",
       " 0,\n",
       " 0,\n",
       " 1,\n",
       " 0,\n",
       " 0,\n",
       " 0,\n",
       " 0,\n",
       " 0,\n",
       " 0,\n",
       " 0,\n",
       " 0,\n",
       " 0,\n",
       " 0,\n",
       " 1,\n",
       " 0,\n",
       " 0,\n",
       " 1,\n",
       " 0,\n",
       " 0,\n",
       " 1,\n",
       " 0,\n",
       " 0,\n",
       " 0,\n",
       " 0,\n",
       " 0,\n",
       " 0,\n",
       " 0,\n",
       " 1,\n",
       " 1,\n",
       " 1,\n",
       " 0,\n",
       " 0,\n",
       " 0,\n",
       " 1,\n",
       " 1,\n",
       " 0,\n",
       " 0,\n",
       " 1,\n",
       " 0,\n",
       " 1,\n",
       " 0,\n",
       " 0,\n",
       " 0,\n",
       " 0,\n",
       " 0,\n",
       " 1,\n",
       " 0,\n",
       " 0,\n",
       " 0,\n",
       " 0,\n",
       " 1,\n",
       " 0,\n",
       " 1,\n",
       " 0,\n",
       " 0,\n",
       " 0,\n",
       " 1,\n",
       " 0,\n",
       " 1,\n",
       " 0,\n",
       " 1,\n",
       " 0,\n",
       " 0,\n",
       " 0,\n",
       " 0,\n",
       " 1,\n",
       " 0,\n",
       " 0,\n",
       " 1,\n",
       " 0,\n",
       " 0,\n",
       " 1,\n",
       " 1,\n",
       " 0,\n",
       " 0,\n",
       " 0,\n",
       " 0,\n",
       " 0,\n",
       " 0,\n",
       " 0,\n",
       " 0,\n",
       " 0,\n",
       " 0,\n",
       " 0,\n",
       " 0,\n",
       " 0,\n",
       " 0,\n",
       " 0,\n",
       " 1,\n",
       " 0,\n",
       " 0,\n",
       " 0,\n",
       " 1,\n",
       " 1,\n",
       " 1,\n",
       " 0,\n",
       " 1,\n",
       " 1,\n",
       " 0,\n",
       " 0,\n",
       " 0,\n",
       " 0,\n",
       " 0,\n",
       " 1,\n",
       " 0,\n",
       " 0,\n",
       " 0,\n",
       " 0,\n",
       " 0,\n",
       " 0,\n",
       " 0,\n",
       " 1,\n",
       " 0,\n",
       " 0,\n",
       " 0,\n",
       " 0,\n",
       " 0,\n",
       " 0,\n",
       " 0,\n",
       " 0,\n",
       " 0,\n",
       " 1,\n",
       " 0,\n",
       " 0,\n",
       " 1,\n",
       " 0,\n",
       " 0,\n",
       " 1,\n",
       " 0,\n",
       " 0,\n",
       " 0,\n",
       " 0,\n",
       " 1,\n",
       " 0,\n",
       " 0,\n",
       " 0,\n",
       " 0,\n",
       " 1,\n",
       " 0,\n",
       " 0,\n",
       " 0,\n",
       " 1,\n",
       " 1,\n",
       " 0,\n",
       " 0,\n",
       " 1,\n",
       " 1,\n",
       " 0,\n",
       " 1,\n",
       " 0,\n",
       " 1,\n",
       " 0,\n",
       " 0,\n",
       " 0,\n",
       " 0,\n",
       " 0,\n",
       " 0,\n",
       " 1,\n",
       " 1,\n",
       " 0,\n",
       " 1,\n",
       " 0,\n",
       " 0,\n",
       " 0,\n",
       " 0,\n",
       " 0,\n",
       " 0,\n",
       " 0,\n",
       " 0,\n",
       " 0,\n",
       " 1,\n",
       " 0,\n",
       " 0,\n",
       " 1,\n",
       " 0,\n",
       " 0,\n",
       " 0,\n",
       " 0,\n",
       " 1,\n",
       " 0,\n",
       " 0,\n",
       " 0,\n",
       " 0,\n",
       " 0,\n",
       " 0,\n",
       " 0,\n",
       " 0,\n",
       " 0,\n",
       " 1,\n",
       " 0,\n",
       " 0,\n",
       " 1,\n",
       " 0,\n",
       " 0,\n",
       " 0,\n",
       " 0,\n",
       " 0,\n",
       " 0,\n",
       " 0,\n",
       " 0,\n",
       " 0,\n",
       " 0,\n",
       " 1,\n",
       " 1,\n",
       " 0,\n",
       " 0,\n",
       " 0,\n",
       " 0,\n",
       " 0,\n",
       " 0,\n",
       " 0,\n",
       " 0,\n",
       " 0,\n",
       " 1,\n",
       " 0,\n",
       " 0,\n",
       " 0,\n",
       " 1,\n",
       " 0,\n",
       " 0,\n",
       " 1,\n",
       " 0,\n",
       " 1,\n",
       " 0,\n",
       " 0,\n",
       " 0,\n",
       " 0,\n",
       " 0,\n",
       " 1,\n",
       " 0,\n",
       " 0,\n",
       " 1,\n",
       " 1,\n",
       " 0,\n",
       " 0,\n",
       " 0,\n",
       " 0,\n",
       " 0,\n",
       " 0,\n",
       " 1,\n",
       " 0,\n",
       " 0,\n",
       " 0,\n",
       " 0,\n",
       " 0,\n",
       " 0,\n",
       " 0,\n",
       " 0,\n",
       " 1,\n",
       " 1,\n",
       " 0,\n",
       " 0,\n",
       " 0,\n",
       " 0,\n",
       " 0,\n",
       " 0,\n",
       " 0,\n",
       " 0,\n",
       " 0,\n",
       " 0,\n",
       " 0,\n",
       " 0,\n",
       " 0,\n",
       " 0,\n",
       " 0,\n",
       " 0,\n",
       " 0,\n",
       " 0,\n",
       " 0,\n",
       " 0,\n",
       " 0,\n",
       " 0,\n",
       " 0,\n",
       " 0,\n",
       " 0,\n",
       " 0,\n",
       " 0,\n",
       " 0,\n",
       " 1,\n",
       " 1,\n",
       " 0,\n",
       " 1,\n",
       " 1,\n",
       " 0,\n",
       " 0,\n",
       " 0,\n",
       " 0,\n",
       " 0,\n",
       " 0,\n",
       " 0,\n",
       " 0,\n",
       " 0,\n",
       " 0,\n",
       " 0,\n",
       " 1,\n",
       " 0,\n",
       " 0,\n",
       " 0,\n",
       " 0,\n",
       " 0,\n",
       " 0,\n",
       " 1,\n",
       " 0,\n",
       " 0,\n",
       " 0,\n",
       " 0,\n",
       " 0,\n",
       " 1,\n",
       " 0,\n",
       " 0,\n",
       " 0,\n",
       " 0,\n",
       " 1,\n",
       " 1,\n",
       " 0,\n",
       " 0,\n",
       " 0,\n",
       " 0,\n",
       " 0,\n",
       " 1,\n",
       " 0,\n",
       " 1,\n",
       " 0,\n",
       " 0,\n",
       " 0,\n",
       " 0,\n",
       " 0,\n",
       " 0,\n",
       " 1,\n",
       " 0,\n",
       " 0,\n",
       " 1,\n",
       " 0,\n",
       " 0,\n",
       " 0,\n",
       " 0,\n",
       " 1,\n",
       " 1,\n",
       " 0,\n",
       " 1,\n",
       " 0,\n",
       " 1,\n",
       " 0,\n",
       " 0,\n",
       " 1,\n",
       " 1,\n",
       " 0,\n",
       " 0,\n",
       " 0,\n",
       " 0,\n",
       " 0,\n",
       " 0,\n",
       " 0,\n",
       " 0,\n",
       " 0,\n",
       " 1,\n",
       " 0,\n",
       " 0,\n",
       " 0,\n",
       " 0,\n",
       " 0,\n",
       " 0,\n",
       " 0,\n",
       " 0,\n",
       " 0,\n",
       " 0,\n",
       " 0,\n",
       " 0,\n",
       " 0,\n",
       " 0,\n",
       " 0,\n",
       " 0,\n",
       " 0,\n",
       " 0,\n",
       " 0,\n",
       " 1,\n",
       " 0,\n",
       " 0,\n",
       " 1,\n",
       " 1,\n",
       " 1,\n",
       " 0,\n",
       " 0,\n",
       " 0,\n",
       " 0,\n",
       " 0,\n",
       " 0,\n",
       " 0,\n",
       " 1,\n",
       " 0,\n",
       " 0,\n",
       " 0,\n",
       " 0,\n",
       " 1,\n",
       " 1,\n",
       " 1,\n",
       " 1,\n",
       " 0,\n",
       " 0,\n",
       " 1,\n",
       " 0,\n",
       " 0,\n",
       " 1,\n",
       " 1,\n",
       " 0,\n",
       " 0,\n",
       " 0,\n",
       " 0,\n",
       " 1,\n",
       " 1,\n",
       " 0,\n",
       " 0,\n",
       " 0,\n",
       " 0,\n",
       " 1,\n",
       " 0,\n",
       " 0,\n",
       " 0,\n",
       " 0,\n",
       " 0,\n",
       " 0,\n",
       " 0,\n",
       " 1,\n",
       " 0,\n",
       " 1,\n",
       " 0,\n",
       " 0,\n",
       " 0,\n",
       " 0,\n",
       " 1,\n",
       " 0,\n",
       " 0,\n",
       " 0,\n",
       " 0,\n",
       " 0,\n",
       " 1,\n",
       " 0,\n",
       " 0,\n",
       " 0,\n",
       " 0,\n",
       " 0,\n",
       " 1,\n",
       " 0,\n",
       " 1,\n",
       " 0,\n",
       " 0,\n",
       " 0,\n",
       " 0,\n",
       " 1,\n",
       " 1,\n",
       " 0,\n",
       " 0,\n",
       " 0,\n",
       " 0,\n",
       " 0,\n",
       " 1,\n",
       " 0,\n",
       " 0,\n",
       " 0,\n",
       " 0,\n",
       " 0,\n",
       " 1,\n",
       " 0,\n",
       " 0,\n",
       " 0,\n",
       " 1,\n",
       " 0,\n",
       " 0,\n",
       " 0,\n",
       " 0,\n",
       " 0,\n",
       " 0,\n",
       " 0,\n",
       " 0,\n",
       " 0,\n",
       " 0,\n",
       " 0,\n",
       " 1,\n",
       " 0,\n",
       " 1,\n",
       " 0,\n",
       " 1,\n",
       " 1,\n",
       " 0,\n",
       " 0,\n",
       " 0,\n",
       " 1,\n",
       " 1,\n",
       " 0,\n",
       " 0,\n",
       " 0,\n",
       " 0,\n",
       " 1,\n",
       " 0,\n",
       " 1,\n",
       " 0,\n",
       " 0,\n",
       " 0,\n",
       " 0,\n",
       " 0,\n",
       " 0]"
      ]
     },
     "execution_count": 704,
     "metadata": {},
     "output_type": "execute_result"
    }
   ],
   "source": [
    "# 3- Que représente le vecteur retourné par sigmoid ?\n",
    "# il represente la probabilité de le vecteur des features\n",
    "# 4- Que représente LinearModel, le paramètre de la fonction sigmoid\n",
    "# il repersente la regression linéaire\n",
    "# 5- Ajouter une fonction Predict (bias, W, X) permettant de retourner les classes des lignes de X\n",
    "def predict(w0,w1,X):\n",
    "    linear_model=np.dot(X,w1)+w0\n",
    "    y_predicted=Sigmoid(linear_model)\n",
    "    y_predicted_cls=[1 if i>0.5 else 0 for i in y_predicted]\n",
    "    return y_predicted_cls\n",
    "\n",
    "predict(w0,w1,X)"
   ]
  },
  {
   "cell_type": "markdown",
   "metadata": {},
   "source": [
    "# Exercice 5"
   ]
  },
  {
   "cell_type": "code",
   "execution_count": 705,
   "metadata": {},
   "outputs": [],
   "source": [
    "X=df[['Glucose','BloodPressure','SkinThickness']]\n",
    "y=df['Outcome']"
   ]
  },
  {
   "cell_type": "code",
   "execution_count": 706,
   "metadata": {},
   "outputs": [
    {
     "data": {
      "text/plain": [
       "(199, 122, 99)"
      ]
     },
     "execution_count": 706,
     "metadata": {},
     "output_type": "execute_result"
    }
   ],
   "source": [
    "df['Glucose'].max(),df['BloodPressure'].max(),df['SkinThickness'].max()"
   ]
  },
  {
   "cell_type": "code",
   "execution_count": 707,
   "metadata": {},
   "outputs": [
    {
     "data": {
      "text/plain": [
       "(0, 0, 0)"
      ]
     },
     "execution_count": 707,
     "metadata": {},
     "output_type": "execute_result"
    }
   ],
   "source": [
    "df['Glucose'].min(),df['BloodPressure'].min(),df['SkinThickness'].min()"
   ]
  },
  {
   "cell_type": "code",
   "execution_count": 708,
   "metadata": {},
   "outputs": [
    {
     "data": {
      "text/plain": [
       "(120.89453125, 69.10546875, 20.536458333333332)"
      ]
     },
     "execution_count": 708,
     "metadata": {},
     "output_type": "execute_result"
    }
   ],
   "source": [
    "df['Glucose'].mean(),df['BloodPressure'].mean(),df['SkinThickness'].mean()"
   ]
  },
  {
   "cell_type": "code",
   "execution_count": 709,
   "metadata": {},
   "outputs": [
    {
     "data": {
      "text/plain": [
       "(-0.06989429118855951, array([ 0.05860127, -0.11197141,  0.00672397]))"
      ]
     },
     "execution_count": 709,
     "metadata": {},
     "output_type": "execute_result"
    }
   ],
   "source": [
    "#modification\n",
    "def gradientDescent(X,y): \n",
    "    n_samples,n_features=X.shape \n",
    "    learning_rate=0.001 \n",
    "    n_iterations=1000\n",
    "    bias=0\n",
    "    W=np.zeros(n_features) #ligne 6 \n",
    "    for _ in range(n_iterations): \n",
    "        linearModel=np.dot(X,W)+bias\n",
    "        y_predicted=Sigmoid(linearModel) #ligne 8 \n",
    "        d_W=(2/n_samples)*np.dot(X.T,(y_predicted-y)) #ligne 9 \n",
    "        d_bias=(2/n_samples)*np.sum(y_predicted-y) #ligne 10 \n",
    "        W-= learning_rate *d_W #ligne 11\n",
    "        bias-= learning_rate *d_bias #ligne 12\n",
    "    \n",
    "    return bias,W\n",
    "# taille de W est 3\n",
    "# Pour un nombre d’itération 1000 et un learning_rate=0.0001, \n",
    "# écrire l’expression de la fonction logit et l’expression de la fonction logistique ?\n",
    "gradientDescent(X,y)"
   ]
  },
  {
   "cell_type": "code",
   "execution_count": 710,
   "metadata": {},
   "outputs": [],
   "source": [
    "X_train, X_test, y_train, y_test = train_test_split(X, y, test_size=0.2)"
   ]
  },
  {
   "cell_type": "code",
   "execution_count": 711,
   "metadata": {},
   "outputs": [
    {
     "data": {
      "text/plain": [
       "(array([-4.3567595]), array([[ 0.03310054, -0.0070584 ,  0.00640522]]))"
      ]
     },
     "execution_count": 711,
     "metadata": {},
     "output_type": "execute_result"
    }
   ],
   "source": [
    "h.fit(X,y)\n",
    "h.intercept_,h.coef_"
   ]
  },
  {
   "cell_type": "code",
   "execution_count": 712,
   "metadata": {},
   "outputs": [],
   "source": [
    "# comparaison? ==> le modèle de sklearn est plus perfermant à cause que notre algorithme de gradient descente n'a pas attendre\n",
    "# la valeur optimale en fonction de le nombre d'itération et le degré d'apprentissage"
   ]
  },
  {
   "cell_type": "code",
   "execution_count": 713,
   "metadata": {},
   "outputs": [
    {
     "data": {
      "text/plain": [
       "(1.0767535189763289e-05, array([0.0015677 , 0.0007619 , 0.00023973]))"
      ]
     },
     "execution_count": 713,
     "metadata": {},
     "output_type": "execute_result"
    }
   ],
   "source": [
    "X_train,X_test,y_train,y_test=train_test_split(X,y,test_size=0.2, random_state=12)\n",
    "def gradientDescent(X,y): \n",
    "    n_samples,n_features=X.shape\n",
    "    #print(X.shape)\n",
    "    learning_rate=0.00001 \n",
    "    n_iterations=2\n",
    "    bias=0\n",
    "    W=np.zeros(n_features) #ligne 6 => [0,0,0]\n",
    "    for _ in range(n_iterations): \n",
    "        y_predicted=np.dot(X,W)+bias #ligne 8 \n",
    "        #print(y_predicted.shape, y_predicted)\n",
    "        d_W=(2/n_samples)*np.dot(X.T,(y_predicted-y)) #ligne 9 \n",
    "        d_bias=(2/n_samples)*np.sum(y_predicted-y) #ligne 10 \n",
    "        W-= learning_rate *d_W #ligne 11\n",
    "        bias-= learning_rate *d_bias #ligne 12\n",
    "    \n",
    "    return bias,W\n",
    "    \n",
    "b,W=gradientDescent(X_train,y_train)\n",
    "b,W"
   ]
  },
  {
   "cell_type": "code",
   "execution_count": null,
   "metadata": {},
   "outputs": [],
   "source": []
  }
 ],
 "metadata": {
  "kernelspec": {
   "display_name": "Python 3",
   "language": "python",
   "name": "python3"
  },
  "language_info": {
   "codemirror_mode": {
    "name": "ipython",
    "version": 3
   },
   "file_extension": ".py",
   "mimetype": "text/x-python",
   "name": "python",
   "nbconvert_exporter": "python",
   "pygments_lexer": "ipython3",
   "version": "3.8.5"
  }
 },
 "nbformat": 4,
 "nbformat_minor": 2
}
