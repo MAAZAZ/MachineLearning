{
 "cells": [
  {
   "cell_type": "code",
   "execution_count": 267,
   "metadata": {},
   "outputs": [],
   "source": [
    "import numpy as np\n",
    "from sklearn.linear_model import LogisticRegression as lr\n",
    "import matplotlib.pyplot as pt "
   ]
  },
  {
   "cell_type": "code",
   "execution_count": 268,
   "metadata": {},
   "outputs": [
    {
     "data": {
      "text/plain": [
       "array([[-10.        ],\n",
       "       [ -9.59183673],\n",
       "       [ -9.18367347],\n",
       "       [ -8.7755102 ],\n",
       "       [ -8.36734694],\n",
       "       [ -7.95918367],\n",
       "       [ -7.55102041],\n",
       "       [ -7.14285714],\n",
       "       [ -6.73469388],\n",
       "       [ -6.32653061],\n",
       "       [ -5.91836735],\n",
       "       [ -5.51020408],\n",
       "       [ -5.10204082],\n",
       "       [ -4.69387755],\n",
       "       [ -4.28571429],\n",
       "       [ -3.87755102],\n",
       "       [ -3.46938776],\n",
       "       [ -3.06122449],\n",
       "       [ -2.65306122],\n",
       "       [ -2.24489796],\n",
       "       [ -1.83673469],\n",
       "       [ -1.42857143],\n",
       "       [ -1.02040816],\n",
       "       [ -0.6122449 ],\n",
       "       [ -0.20408163],\n",
       "       [  0.20408163],\n",
       "       [  0.6122449 ],\n",
       "       [  1.02040816],\n",
       "       [  1.42857143],\n",
       "       [  1.83673469],\n",
       "       [  2.24489796],\n",
       "       [  2.65306122],\n",
       "       [  3.06122449],\n",
       "       [  3.46938776],\n",
       "       [  3.87755102],\n",
       "       [  4.28571429],\n",
       "       [  4.69387755],\n",
       "       [  5.10204082],\n",
       "       [  5.51020408],\n",
       "       [  5.91836735],\n",
       "       [  6.32653061],\n",
       "       [  6.73469388],\n",
       "       [  7.14285714],\n",
       "       [  7.55102041],\n",
       "       [  7.95918367],\n",
       "       [  8.36734694],\n",
       "       [  8.7755102 ],\n",
       "       [  9.18367347],\n",
       "       [  9.59183673],\n",
       "       [ 10.        ]])"
      ]
     },
     "execution_count": 268,
     "metadata": {},
     "output_type": "execute_result"
    }
   ],
   "source": [
    "X=np.linspace(-10,10,50).reshape(-1,1)\n",
    "X"
   ]
  },
  {
   "cell_type": "code",
   "execution_count": 269,
   "metadata": {
    "scrolled": true
   },
   "outputs": [
    {
     "data": {
      "text/plain": [
       "array([[4.53978687e-05],\n",
       "       [6.82792246e-05],\n",
       "       [1.02692018e-04],\n",
       "       [1.54446212e-04],\n",
       "       [2.32277160e-04],\n",
       "       [3.49316192e-04],\n",
       "       [5.25297471e-04],\n",
       "       [7.89865942e-04],\n",
       "       [1.18752721e-03],\n",
       "       [1.78503502e-03],\n",
       "       [2.68237328e-03],\n",
       "       [4.02898336e-03],\n",
       "       [6.04752187e-03],\n",
       "       [9.06814944e-03],\n",
       "       [1.35769169e-02],\n",
       "       [2.02816018e-02],\n",
       "       [3.01959054e-02],\n",
       "       [4.47353464e-02],\n",
       "       [6.58005831e-02],\n",
       "       [9.57904660e-02],\n",
       "       [1.37437932e-01],\n",
       "       [1.93321370e-01],\n",
       "       [2.64947903e-01],\n",
       "       [3.51547277e-01],\n",
       "       [4.49155938e-01],\n",
       "       [5.50844062e-01],\n",
       "       [6.48452723e-01],\n",
       "       [7.35052097e-01],\n",
       "       [8.06678630e-01],\n",
       "       [8.62562068e-01],\n",
       "       [9.04209534e-01],\n",
       "       [9.34199417e-01],\n",
       "       [9.55264654e-01],\n",
       "       [9.69804095e-01],\n",
       "       [9.79718398e-01],\n",
       "       [9.86423083e-01],\n",
       "       [9.90931851e-01],\n",
       "       [9.93952478e-01],\n",
       "       [9.95971017e-01],\n",
       "       [9.97317627e-01],\n",
       "       [9.98214965e-01],\n",
       "       [9.98812473e-01],\n",
       "       [9.99210134e-01],\n",
       "       [9.99474703e-01],\n",
       "       [9.99650684e-01],\n",
       "       [9.99767723e-01],\n",
       "       [9.99845554e-01],\n",
       "       [9.99897308e-01],\n",
       "       [9.99931721e-01],\n",
       "       [9.99954602e-01]])"
      ]
     },
     "execution_count": 269,
     "metadata": {},
     "output_type": "execute_result"
    }
   ],
   "source": [
    "def sigmoid(x):\n",
    "    return 1/(1+np.exp(-X))\n",
    "\n",
    "y=sigmoid(X)\n",
    "y"
   ]
  },
  {
   "cell_type": "code",
   "execution_count": 270,
   "metadata": {},
   "outputs": [
    {
     "data": {
      "text/plain": [
       "[<matplotlib.lines.Line2D at 0x252136c0908>]"
      ]
     },
     "execution_count": 270,
     "metadata": {},
     "output_type": "execute_result"
    },
    {
     "data": {
      "image/png": "[encoded data removed]",
      "text/plain": [
       "<Figure size 432x288 with 1 Axes>"
      ]
     },
     "metadata": {
      "needs_background": "light"
     },
     "output_type": "display_data"
    }
   ],
   "source": [
    "pt.plot(X,y)"
   ]
  },
  {
   "cell_type": "code",
   "execution_count": 271,
   "metadata": {},
   "outputs": [],
   "source": [
    "x = np.arange(10).reshape(-1, 1)\n",
    "\n",
    "y = np.array([0, 0, 0, 0, 1, 1, 1, 1, 1, 1])"
   ]
  },
  {
   "cell_type": "code",
   "execution_count": 272,
   "metadata": {
    "scrolled": true
   },
   "outputs": [
    {
     "data": {
      "text/plain": [
       "LogisticRegression(C=1.0, class_weight=None, dual=False, fit_intercept=True,\n",
       "                   intercept_scaling=1, l1_ratio=None, max_iter=100,\n",
       "                   multi_class='warn', n_jobs=None, penalty='l2',\n",
       "                   random_state=0, solver='liblinear', tol=0.0001, verbose=0,\n",
       "                   warm_start=False)"
      ]
     },
     "execution_count": 272,
     "metadata": {},
     "output_type": "execute_result"
    }
   ],
   "source": [
    "model = lr(solver='liblinear', random_state=0)\n",
    "\n",
    "model.fit(x,y)"
   ]
  },
  {
   "cell_type": "code",
   "execution_count": 273,
   "metadata": {},
   "outputs": [
    {
     "data": {
      "text/plain": [
       "(array([-1.04608067]), array([[0.51491375]]))"
      ]
     },
     "execution_count": 273,
     "metadata": {},
     "output_type": "execute_result"
    }
   ],
   "source": [
    "model.intercept_,model.coef_"
   ]
  },
  {
   "cell_type": "code",
   "execution_count": 274,
   "metadata": {},
   "outputs": [
    {
     "data": {
      "text/plain": [
       "array([0, 1])"
      ]
     },
     "execution_count": 274,
     "metadata": {},
     "output_type": "execute_result"
    }
   ],
   "source": [
    "#classes\n",
    "\n",
    "model.classes_"
   ]
  },
  {
   "cell_type": "code",
   "execution_count": 275,
   "metadata": {
    "scrolled": true
   },
   "outputs": [
    {
     "data": {
      "text/plain": [
       "array([[0.74002157, 0.25997843],\n",
       "       [0.62975524, 0.37024476],\n",
       "       [0.5040632 , 0.4959368 ],\n",
       "       [0.37785549, 0.62214451],\n",
       "       [0.26628093, 0.73371907],\n",
       "       [0.17821501, 0.82178499],\n",
       "       [0.11472079, 0.88527921],\n",
       "       [0.07186982, 0.92813018],\n",
       "       [0.04422513, 0.95577487],\n",
       "       [0.02690569, 0.97309431]])"
      ]
     },
     "execution_count": 275,
     "metadata": {},
     "output_type": "execute_result"
    }
   ],
   "source": [
    "#prediction\n",
    "\n",
    "model.predict_proba(x)"
   ]
  },
  {
   "cell_type": "code",
   "execution_count": 276,
   "metadata": {},
   "outputs": [
    {
     "data": {
      "text/plain": [
       "array([1])"
      ]
     },
     "execution_count": 276,
     "metadata": {},
     "output_type": "execute_result"
    }
   ],
   "source": [
    "model.predict([[5]])"
   ]
  },
  {
   "cell_type": "code",
   "execution_count": 277,
   "metadata": {},
   "outputs": [
    {
     "data": {
      "text/plain": [
       "array([0, 0, 0, 1, 1, 1, 1, 1, 1, 1])"
      ]
     },
     "execution_count": 277,
     "metadata": {},
     "output_type": "execute_result"
    }
   ],
   "source": [
    "model.predict(x)"
   ]
  },
  {
   "cell_type": "code",
   "execution_count": 278,
   "metadata": {},
   "outputs": [
    {
     "data": {
      "text/plain": [
       "array([[3, 1],\n",
       "       [0, 6]], dtype=int64)"
      ]
     },
     "execution_count": 278,
     "metadata": {},
     "output_type": "execute_result"
    }
   ],
   "source": [
    "cm = confusion_matrix(y, model.predict(x))\n",
    "cm"
   ]
  },
  {
   "cell_type": "code",
   "execution_count": 279,
   "metadata": {},
   "outputs": [
    {
     "data": {
      "text/plain": [
       "(array([[1],\n",
       "        [3],\n",
       "        [9],\n",
       "        [6],\n",
       "        [2],\n",
       "        [7],\n",
       "        [8],\n",
       "        [4]]), array([[0],\n",
       "        [5]]), array([0, 0, 1, 1, 0, 1, 1, 1]), array([0, 1]))"
      ]
     },
     "execution_count": 279,
     "metadata": {},
     "output_type": "execute_result"
    }
   ],
   "source": [
    "from sklearn.model_selection import train_test_split\n",
    "X_train, X_test, y_train, y_test = train_test_split(x, y, test_size=0.2)\n",
    "X_train, X_test, y_train, y_test"
   ]
  }
 ],
 "metadata": {
  "kernelspec": {
   "display_name": "Python 3",
   "language": "python",
   "name": "python3"
  },
  "language_info": {
   "codemirror_mode": {
    "name": "ipython",
    "version": 3
   },
   "file_extension": ".py",
   "mimetype": "text/x-python",
   "name": "python",
   "nbconvert_exporter": "python",
   "pygments_lexer": "ipython3",
   "version": "3.8.5"
  }
 },
 "nbformat": 4,
 "nbformat_minor": 2
}
