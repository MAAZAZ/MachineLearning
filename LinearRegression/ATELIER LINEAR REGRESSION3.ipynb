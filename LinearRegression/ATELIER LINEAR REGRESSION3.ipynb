{
 "cells": [
  {
   "cell_type": "markdown",
   "metadata": {},
   "source": [
    "# Exercice 7"
   ]
  },
  {
   "cell_type": "code",
   "execution_count": 42,
   "metadata": {},
   "outputs": [],
   "source": [
    "import numpy as np\n",
    "from sklearn.model_selection import train_test_split\n",
    "import pandas as pd\n",
    "from matplotlib import pyplot as pt\n",
    "from sklearn.linear_model import LinearRegression\n",
    "from sklearn import metrics"
   ]
  },
  {
   "cell_type": "code",
   "execution_count": 43,
   "metadata": {},
   "outputs": [],
   "source": [
    "df=pd.read_csv(\"Advertising.csv\")\n",
    "y=df.Sales\n",
    "X=df[['TV', 'Radio', 'Newspaper']]\n",
    "X_train,X_test,y_train,y_test=train_test_split(X,y,test_size=0.2, random_state=12)"
   ]
  },
  {
   "cell_type": "code",
   "execution_count": 44,
   "metadata": {},
   "outputs": [],
   "source": [
    "lr=0.00001\n",
    "n_iters=10000\n",
    "weights=None\n",
    "bias=None\n",
    "def fit(X,y):\n",
    "     n_samples,n_features=X.shape #(n,m)\n",
    "     weights=np.zeros(n_features) # (m,)\n",
    "     mse=[]\n",
    "     bias=0\n",
    "     for _ in range(n_iters):\n",
    "         y_predicted=np.dot(X,weights) + bias\n",
    "         mse.append(metrics.mean_squared_error(y,y_predicted))\n",
    "         dw=(2/n_samples)*np.dot(X.T,y_predicted-y)\n",
    "         db=(2/n_samples)*np.sum(y_predicted-y)\n",
    "         weights-=lr*dw\n",
    "         bias-=lr*db\n",
    "     return bias,weights,mse"
   ]
  },
  {
   "cell_type": "code",
   "execution_count": 45,
   "metadata": {},
   "outputs": [
    {
     "data": {
      "text/plain": [
       "(0.08546065951789071,\n",
       " array([0.05278809, 0.22368423, 0.01739528]),\n",
       " 4.029631286020369)"
      ]
     },
     "execution_count": 45,
     "metadata": {},
     "output_type": "execute_result"
    }
   ],
   "source": [
    "b,w,mse=fit(X_train,y_train)\n",
    "b,w,mse[-1] #bais, weights, last error"
   ]
  },
  {
   "cell_type": "code",
   "execution_count": 46,
   "metadata": {},
   "outputs": [],
   "source": [
    "def predict(X):\n",
    " predicted_y=np.dot(X,w)+b\n",
    " return predicted_y"
   ]
  },
  {
   "cell_type": "code",
   "execution_count": 47,
   "metadata": {},
   "outputs": [
    {
     "data": {
      "text/plain": [
       "array([16.37300183,  4.84379128,  5.91188002, 14.1669323 , 12.27397128,\n",
       "       16.85706667, 24.38182743,  6.07384786,  9.65431774, 11.01658546,\n",
       "       16.69438795, 10.78579295,  6.6496218 , 14.34281726, 25.73065208,\n",
       "        8.50537338, 10.60879956, 13.83439774, 13.30418421, 15.54277959,\n",
       "       21.33612578,  9.81663258, 25.60677218,  6.66557816, 15.94386937,\n",
       "        7.59537672, 12.50266447, 11.72741041,  1.31177745, 10.3222969 ,\n",
       "        8.10097496, 26.13471876, 15.97524316, 22.75214591,  4.18622666,\n",
       "       19.69528859, 11.37016789, 22.6787298 , 12.00984803, 12.78752174])"
      ]
     },
     "execution_count": 47,
     "metadata": {},
     "output_type": "execute_result"
    }
   ],
   "source": [
    "predictions=predict(X_test)\n",
    "predictions"
   ]
  },
  {
   "cell_type": "code",
   "execution_count": 48,
   "metadata": {},
   "outputs": [
    {
     "data": {
      "text/plain": [
       "[<matplotlib.lines.Line2D at 0x1d69962eb50>]"
      ]
     },
     "execution_count": 48,
     "metadata": {},
     "output_type": "execute_result"
    },
    {
     "data": {
      "image/png": "[encoded data removed]",
      "text/plain": [
       "<Figure size 432x288 with 1 Axes>"
      ]
     },
     "metadata": {
      "needs_background": "light"
     },
     "output_type": "display_data"
    }
   ],
   "source": [
    "pt.plot(np.arange(10000),mse)"
   ]
  },
  {
   "cell_type": "code",
   "execution_count": 49,
   "metadata": {},
   "outputs": [
    {
     "data": {
      "text/plain": [
       "LinearRegression()"
      ]
     },
     "execution_count": 49,
     "metadata": {},
     "output_type": "execute_result"
    }
   ],
   "source": [
    "X=np.array(X)\n",
    "y=np.array(y)\n",
    "h=LinearRegression()\n",
    "h.fit(X_train,y_train)"
   ]
  },
  {
   "cell_type": "code",
   "execution_count": 50,
   "metadata": {},
   "outputs": [
    {
     "data": {
      "text/plain": [
       "array([16.39007308,  6.55142872,  7.75824723, 14.53202646, 13.33028039,\n",
       "       17.25724194, 22.70246331,  7.56542867, 11.11617935, 12.16590506,\n",
       "       16.20688599, 11.89552242,  8.6982841 , 14.33284955, 23.90604787,\n",
       "        9.90237465, 11.29089546, 12.63485551, 13.73025584, 14.93273641,\n",
       "       20.82213372, 11.03622634, 22.81579474,  7.85544991, 16.34325529,\n",
       "        9.39298831, 13.20801647, 11.595813  ,  3.62943523, 11.70631855,\n",
       "        9.12735107, 23.85164956, 16.31341962, 20.96174927,  6.14548653,\n",
       "       19.77913484, 12.30781253, 21.19176851, 12.43898029, 12.55735255])"
      ]
     },
     "execution_count": 50,
     "metadata": {},
     "output_type": "execute_result"
    }
   ],
   "source": [
    "y_pred=h.predict(X_test)\n",
    "y_pred"
   ]
  },
  {
   "cell_type": "code",
   "execution_count": 51,
   "metadata": {},
   "outputs": [
    {
     "data": {
      "text/plain": [
       "2.813241103782835"
      ]
     },
     "execution_count": 51,
     "metadata": {},
     "output_type": "execute_result"
    }
   ],
   "source": [
    "mse=metrics.mean_squared_error(y_test,y_pred)\n",
    "mse"
   ]
  }
 ],
 "metadata": {
  "kernelspec": {
   "display_name": "Python 3",
   "language": "python",
   "name": "python3"
  },
  "language_info": {
   "codemirror_mode": {
    "name": "ipython",
    "version": 3
   },
   "file_extension": ".py",
   "mimetype": "text/x-python",
   "name": "python",
   "nbconvert_exporter": "python",
   "pygments_lexer": "ipython3",
   "version": "3.8.5"
  }
 },
 "nbformat": 4,
 "nbformat_minor": 2
}
