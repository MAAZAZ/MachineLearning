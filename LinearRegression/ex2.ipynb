{
 "cells": [
  {
   "cell_type": "code",
   "execution_count": 3,
   "metadata": {},
   "outputs": [],
   "source": [
    "from sklearn.linear_model import LinearRegression as lr\n",
    "from sklearn import metrics\n",
    "import numpy as np\n",
    "from matplotlib import pyplot as pt\n",
    "import pandas as pd"
   ]
  },
  {
   "cell_type": "code",
   "execution_count": 4,
   "metadata": {},
   "outputs": [],
   "source": [
    "df=pd.read_csv(\"Advertising.csv\") #index_col=[0]\n",
    "X=df['TV'] \n",
    "y=df['Sales']\n",
    "#X.drop(df.filter(regex=\"Sales\"),axis=1, inplace=True)"
   ]
  },
  {
   "cell_type": "code",
   "execution_count": 5,
   "metadata": {},
   "outputs": [],
   "source": [
    "#model\n",
    "h=lr()\n",
    "X=[[i] for i in X]"
   ]
  },
  {
   "cell_type": "code",
   "execution_count": 6,
   "metadata": {},
   "outputs": [
    {
     "data": {
      "text/plain": [
       "LinearRegression(copy_X=True, fit_intercept=True, n_jobs=None, normalize=False)"
      ]
     },
     "execution_count": 6,
     "metadata": {},
     "output_type": "execute_result"
    }
   ],
   "source": [
    "h.fit(X,y)"
   ]
  },
  {
   "cell_type": "code",
   "execution_count": 7,
   "metadata": {},
   "outputs": [
    {
     "data": {
      "text/plain": [
       "1"
      ]
     },
     "execution_count": 7,
     "metadata": {},
     "output_type": "execute_result"
    }
   ],
   "source": [
    "#w0, w1 et w3\n",
    "h.intercept_, h.coef_\n",
    "len(h.coef_)"
   ]
  },
  {
   "cell_type": "code",
   "execution_count": 8,
   "metadata": {
    "scrolled": true
   },
   "outputs": [
    {
     "data": {
      "text/plain": [
       "array([10.83552478, 17.49065444])"
      ]
     },
     "execution_count": 8,
     "metadata": {},
     "output_type": "execute_result"
    }
   ],
   "source": [
    "h.predict([[80],[220]])"
   ]
  },
  {
   "cell_type": "code",
   "execution_count": 27,
   "metadata": {
    "scrolled": true
   },
   "outputs": [
    {
     "data": {
      "text/plain": [
       "Text(0, 0.5, 'Sales')"
      ]
     },
     "execution_count": 27,
     "metadata": {},
     "output_type": "execute_result"
    },
    {
     "data": {
      "image/png": "[encoded data removed]",
      "text/plain": [
       "<Figure size 432x288 with 1 Axes>"
      ]
     },
     "metadata": {
      "needs_background": "light"
     },
     "output_type": "display_data"
    }
   ],
   "source": [
    "pt.plot(X, h.predict(X))\n",
    "pt.plot(X,y,'ro')\n",
    "pt.plot([[80],[220]],h.predict([[80],[220]]),\"go\")\n",
    "pt.xlabel(\"TV\")\n",
    "pt.ylabel(\"Sales\")"
   ]
  },
  {
   "cell_type": "code",
   "execution_count": 10,
   "metadata": {},
   "outputs": [
    {
     "data": {
      "text/plain": [
       "[[22.1],\n",
       " [10.4],\n",
       " [9.3],\n",
       " [18.5],\n",
       " [12.9],\n",
       " [7.2],\n",
       " [11.8],\n",
       " [13.2],\n",
       " [4.8],\n",
       " [10.6],\n",
       " [8.6],\n",
       " [17.4],\n",
       " [9.2],\n",
       " [9.7],\n",
       " [19.0],\n",
       " [22.4],\n",
       " [12.5],\n",
       " [24.4],\n",
       " [11.3],\n",
       " [14.6],\n",
       " [18.0],\n",
       " [12.5],\n",
       " [5.6],\n",
       " [15.5],\n",
       " [9.7],\n",
       " [12.0],\n",
       " [15.0],\n",
       " [15.9],\n",
       " [18.9],\n",
       " [10.5],\n",
       " [21.4],\n",
       " [11.9],\n",
       " [9.6],\n",
       " [17.4],\n",
       " [9.5],\n",
       " [12.8],\n",
       " [25.4],\n",
       " [14.7],\n",
       " [10.1],\n",
       " [21.5],\n",
       " [16.6],\n",
       " [17.1],\n",
       " [20.7],\n",
       " [12.9],\n",
       " [8.5],\n",
       " [14.9],\n",
       " [10.6],\n",
       " [23.2],\n",
       " [14.8],\n",
       " [9.7],\n",
       " [11.4],\n",
       " [10.7],\n",
       " [22.6],\n",
       " [21.2],\n",
       " [20.2],\n",
       " [23.7],\n",
       " [5.5],\n",
       " [13.2],\n",
       " [23.8],\n",
       " [18.4],\n",
       " [8.1],\n",
       " [24.2],\n",
       " [15.7],\n",
       " [14.0],\n",
       " [18.0],\n",
       " [9.3],\n",
       " [9.5],\n",
       " [13.4],\n",
       " [18.9],\n",
       " [22.3],\n",
       " [18.3],\n",
       " [12.4],\n",
       " [8.8],\n",
       " [11.0],\n",
       " [17.0],\n",
       " [8.7],\n",
       " [6.9],\n",
       " [14.2],\n",
       " [5.3],\n",
       " [11.0],\n",
       " [11.8],\n",
       " [12.3],\n",
       " [11.3],\n",
       " [13.6],\n",
       " [21.7],\n",
       " [15.2],\n",
       " [12.0],\n",
       " [16.0],\n",
       " [12.9],\n",
       " [16.7],\n",
       " [11.2],\n",
       " [7.3],\n",
       " [19.4],\n",
       " [22.2],\n",
       " [11.5],\n",
       " [16.9],\n",
       " [11.7],\n",
       " [15.5],\n",
       " [25.4],\n",
       " [17.2],\n",
       " [11.7],\n",
       " [23.8],\n",
       " [14.8],\n",
       " [14.7],\n",
       " [20.7],\n",
       " [19.2],\n",
       " [7.2],\n",
       " [8.7],\n",
       " [5.3],\n",
       " [19.8],\n",
       " [13.4],\n",
       " [21.8],\n",
       " [14.1],\n",
       " [15.9],\n",
       " [14.6],\n",
       " [12.6],\n",
       " [12.2],\n",
       " [9.4],\n",
       " [15.9],\n",
       " [6.6],\n",
       " [15.5],\n",
       " [7.0],\n",
       " [11.6],\n",
       " [15.2],\n",
       " [19.7],\n",
       " [10.6],\n",
       " [6.6],\n",
       " [8.8],\n",
       " [24.7],\n",
       " [9.7],\n",
       " [1.6],\n",
       " [12.7],\n",
       " [5.7],\n",
       " [19.6],\n",
       " [10.8],\n",
       " [11.6],\n",
       " [9.5],\n",
       " [20.8],\n",
       " [9.6],\n",
       " [20.7],\n",
       " [10.9],\n",
       " [19.2],\n",
       " [20.1],\n",
       " [10.4],\n",
       " [11.4],\n",
       " [10.3],\n",
       " [13.2],\n",
       " [25.4],\n",
       " [10.9],\n",
       " [10.1],\n",
       " [16.1],\n",
       " [11.6],\n",
       " [16.6],\n",
       " [19.0],\n",
       " [15.6],\n",
       " [3.2],\n",
       " [15.3],\n",
       " [10.1],\n",
       " [7.3],\n",
       " [12.9],\n",
       " [14.4],\n",
       " [13.3],\n",
       " [14.9],\n",
       " [18.0],\n",
       " [11.9],\n",
       " [11.9],\n",
       " [8.0],\n",
       " [12.2],\n",
       " [17.1],\n",
       " [15.0],\n",
       " [8.4],\n",
       " [14.5],\n",
       " [7.6],\n",
       " [11.7],\n",
       " [11.5],\n",
       " [27.0],\n",
       " [20.2],\n",
       " [11.7],\n",
       " [11.8],\n",
       " [12.6],\n",
       " [10.5],\n",
       " [12.2],\n",
       " [8.7],\n",
       " [26.2],\n",
       " [17.6],\n",
       " [22.6],\n",
       " [10.3],\n",
       " [17.3],\n",
       " [15.9],\n",
       " [6.7],\n",
       " [10.8],\n",
       " [9.9],\n",
       " [5.9],\n",
       " [19.6],\n",
       " [17.3],\n",
       " [7.6],\n",
       " [9.7],\n",
       " [12.8],\n",
       " [25.5],\n",
       " [13.4]]"
      ]
     },
     "execution_count": 10,
     "metadata": {},
     "output_type": "execute_result"
    }
   ],
   "source": [
    "y=[[i] for i in y]\n",
    "y"
   ]
  },
  {
   "cell_type": "code",
   "execution_count": 11,
   "metadata": {},
   "outputs": [
    {
     "data": {
      "text/plain": [
       "64.55624502970086"
      ]
     },
     "execution_count": 11,
     "metadata": {},
     "output_type": "execute_result"
    }
   ],
   "source": [
    "y_pred=h.predict(y)\n",
    "mse=metrics.mean_squared_error(y,y_pred)\n",
    "mse"
   ]
  },
  {
   "cell_type": "code",
   "execution_count": 12,
   "metadata": {},
   "outputs": [
    {
     "data": {
      "text/plain": [
       "13426.275110542034"
      ]
     },
     "execution_count": 12,
     "metadata": {},
     "output_type": "execute_result"
    }
   ],
   "source": [
    "mse_py=np.sum((y-y_pred)**2)*(1/len(X))\n",
    "mse_py"
   ]
  },
  {
   "cell_type": "code",
   "execution_count": 13,
   "metadata": {},
   "outputs": [
    {
     "data": {
      "text/plain": [
       "6.582436978180974"
      ]
     },
     "execution_count": 13,
     "metadata": {},
     "output_type": "execute_result"
    }
   ],
   "source": [
    "msa=metrics.mean_absolute_error(y,y_pred)\n",
    "msa"
   ]
  },
  {
   "cell_type": "code",
   "execution_count": 14,
   "metadata": {},
   "outputs": [
    {
     "data": {
      "text/plain": [
       "1331.1026815952212"
      ]
     },
     "execution_count": 14,
     "metadata": {},
     "output_type": "execute_result"
    }
   ],
   "source": [
    "msa_py=np.sum(np.abs(y-y_pred))*(1/len(X))\n",
    "msa_py"
   ]
  },
  {
   "cell_type": "code",
   "execution_count": 15,
   "metadata": {},
   "outputs": [],
   "source": [
    "#RADIO\n",
    "Z=df['Radio']"
   ]
  },
  {
   "cell_type": "code",
   "execution_count": 16,
   "metadata": {},
   "outputs": [],
   "source": [
    "#model\n",
    "f=lr()\n",
    "Z=[[i] for i in Z]"
   ]
  },
  {
   "cell_type": "code",
   "execution_count": 17,
   "metadata": {},
   "outputs": [
    {
     "data": {
      "text/plain": [
       "LinearRegression(copy_X=True, fit_intercept=True, n_jobs=None, normalize=False)"
      ]
     },
     "execution_count": 17,
     "metadata": {},
     "output_type": "execute_result"
    }
   ],
   "source": [
    "f.fit(Z,y)"
   ]
  },
  {
   "cell_type": "code",
   "execution_count": 18,
   "metadata": {},
   "outputs": [
    {
     "data": {
      "text/plain": [
       "(array([9.3116381]), array([[0.20249578]]))"
      ]
     },
     "execution_count": 18,
     "metadata": {},
     "output_type": "execute_result"
    }
   ],
   "source": [
    "#w0, w1 et w3\n",
    "f.intercept_, f.coef_"
   ]
  },
  {
   "cell_type": "code",
   "execution_count": 19,
   "metadata": {
    "scrolled": true
   },
   "outputs": [
    {
     "data": {
      "text/plain": [
       "array([[25.51130077],\n",
       "       [53.86071044]])"
      ]
     },
     "execution_count": 19,
     "metadata": {},
     "output_type": "execute_result"
    }
   ],
   "source": [
    "f.predict([[80],[220]])"
   ]
  },
  {
   "cell_type": "code",
   "execution_count": 26,
   "metadata": {},
   "outputs": [
    {
     "data": {
      "text/plain": [
       "Text(0, 0.5, 'Sales')"
      ]
     },
     "execution_count": 26,
     "metadata": {},
     "output_type": "execute_result"
    },
    {
     "data": {
      "image/png": "[encoded data removed]",
      "text/plain": [
       "<Figure size 432x288 with 1 Axes>"
      ]
     },
     "metadata": {
      "needs_background": "light"
     },
     "output_type": "display_data"
    }
   ],
   "source": [
    "pt.plot(Z, f.predict(Z))\n",
    "pt.plot(Z,y,'ro')\n",
    "pt.plot([[5],[20]],f.predict([[5],[20]]),\"go\")\n",
    "pt.xlabel(\"Radio\")\n",
    "pt.ylabel(\"Sales\")"
   ]
  },
  {
   "cell_type": "code",
   "execution_count": 21,
   "metadata": {
    "scrolled": true
   },
   "outputs": [
    {
     "data": {
      "text/plain": [
       "20.728890624391173"
      ]
     },
     "execution_count": 21,
     "metadata": {},
     "output_type": "execute_result"
    }
   ],
   "source": [
    "y_pred=f.predict(y)\n",
    "mse=metrics.mean_squared_error(y,y_pred)\n",
    "mse"
   ]
  },
  {
   "cell_type": "code",
   "execution_count": 22,
   "metadata": {},
   "outputs": [
    {
     "data": {
      "text/plain": [
       "20.728890624391173"
      ]
     },
     "execution_count": 22,
     "metadata": {},
     "output_type": "execute_result"
    }
   ],
   "source": [
    "mse_py=np.sum((y-y_pred)**2)*(1/len(Z))\n",
    "mse_py"
   ]
  },
  {
   "cell_type": "code",
   "execution_count": 23,
   "metadata": {},
   "outputs": [
    {
     "data": {
      "text/plain": [
       "3.4625614532811233"
      ]
     },
     "execution_count": 23,
     "metadata": {},
     "output_type": "execute_result"
    }
   ],
   "source": [
    "msa=metrics.mean_absolute_error(y,y_pred)\n",
    "msa"
   ]
  },
  {
   "cell_type": "code",
   "execution_count": 24,
   "metadata": {},
   "outputs": [
    {
     "data": {
      "text/plain": [
       "3.4625614532811233"
      ]
     },
     "execution_count": 24,
     "metadata": {},
     "output_type": "execute_result"
    }
   ],
   "source": [
    "msa_py=np.sum(np.abs(y-y_pred))*(1/len(Z))\n",
    "msa_py"
   ]
  }
 ],
 "metadata": {
  "kernelspec": {
   "display_name": "Python 3",
   "language": "python",
   "name": "python3"
  },
  "language_info": {
   "codemirror_mode": {
    "name": "ipython",
    "version": 3
   },
   "file_extension": ".py",
   "mimetype": "text/x-python",
   "name": "python",
   "nbconvert_exporter": "python",
   "pygments_lexer": "ipython3",
   "version": "3.8.5"
  }
 },
 "nbformat": 4,
 "nbformat_minor": 2
}
